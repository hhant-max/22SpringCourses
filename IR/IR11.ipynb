{
  "nbformat": 4,
  "nbformat_minor": 0,
  "metadata": {
    "colab": {
      "name": "IR11.ipynb",
      "provenance": [],
      "mount_file_id": "1EMC8iX_snHnoU4WcUtlnRosg9mNPxtS0",
      "authorship_tag": "ABX9TyNYUJP5lFkpma3CjcI/y1YK",
      "include_colab_link": true
    },
    "kernelspec": {
      "name": "python3",
      "display_name": "Python 3"
    },
    "language_info": {
      "name": "python"
    }
  },
  "cells": [
    {
      "cell_type": "markdown",
      "metadata": {
        "id": "view-in-github",
        "colab_type": "text"
      },
      "source": [
        "<a href=\"https://colab.research.google.com/github/hhant-max/22SpringCourses/blob/main/IR/IR11.ipynb\" target=\"_parent\"><img src=\"https://colab.research.google.com/assets/colab-badge.svg\" alt=\"Open In Colab\"/></a>"
      ]
    },
    {
      "cell_type": "code",
      "execution_count": null,
      "metadata": {
        "colab": {
          "base_uri": "https://localhost:8080/"
        },
        "id": "Plb4sw4Gb2ed",
        "outputId": "5d8bd4cb-b48f-4153-bafc-da373cb51a37"
      },
      "outputs": [
        {
          "output_type": "stream",
          "name": "stdout",
          "text": [
            "Archive:  /content/drive/MyDrive/viva_search_correct.100K.txt.zip\n",
            "  inflating: viva_search_correct.100K.txt  \n"
          ]
        }
      ],
      "source": [
        "! unzip /content/drive/MyDrive/viva_search_correct.100K.txt.zip"
      ]
    },
    {
      "cell_type": "code",
      "source": [
        "import pandas as pd\n",
        "import numpy as np\n",
        "import matplotlib.pyplot as plt"
      ],
      "metadata": {
        "id": "un-zYf_frEAj"
      },
      "execution_count": null,
      "outputs": []
    },
    {
      "cell_type": "markdown",
      "source": [
        "# preprocess"
      ],
      "metadata": {
        "id": "JciiM0S88ox9"
      }
    },
    {
      "cell_type": "code",
      "source": [
        "data = pd.read_csv('/content/viva_search_correct.100K.txt',sep='\\t',header=None)"
      ],
      "metadata": {
        "id": "xL6yWy9XrTXL"
      },
      "execution_count": null,
      "outputs": []
    },
    {
      "cell_type": "code",
      "source": [
        "# https://forum.viva.nl/index.php\n",
        "\n",
        "# add column\n",
        "data.columns = ['timestamp','1','2','3','4','SQI','datingsite','website','query','click_web']\n",
        "data.head(10)"
      ],
      "metadata": {
        "colab": {
          "base_uri": "https://localhost:8080/",
          "height": 843
        },
        "id": "f9nlN9l0ryYc",
        "outputId": "847c031b-bdb9-4c9d-9bfe-a6204fb80242"
      },
      "execution_count": null,
      "outputs": [
        {
          "output_type": "execute_result",
          "data": {
            "text/plain": [
              "                      timestamp  1           2     3  4                 SQI  \\\n",
              "0  2015-12-07 01:59:37.681+0000  c  ez0akax062    \\N  3                  \\N   \n",
              "1  2015-12-07 01:59:30.982+0000  q  ez0akax062  true  2  Search query input   \n",
              "2  2015-12-07 01:59:19.660+0000  q  ez0akax062  true  0  Search query input   \n",
              "3  2015-12-07 01:57:10.915+0000  c  ez0akax062    \\N  2                  \\N   \n",
              "4  2015-12-07 01:56:09.492+0000  q  ez0akax062  true  1  Search query input   \n",
              "5  2015-12-07 01:37:26.790+0000  q  r8e8uis527  true  7  Search query input   \n",
              "6  2015-12-07 01:37:20.128+0000  q  r8e8uis527  true  6  Search query input   \n",
              "7  2015-12-07 01:37:16.770+0000  q  r8e8uis527  true  5  Search query input   \n",
              "8  2015-12-07 01:37:13.879+0000  q  r8e8uis527  true  4  Search query input   \n",
              "9  2015-12-07 01:37:07.896+0000  q  r8e8uis527  true  3  Search query input   \n",
              "\n",
              "   datingsite                            website  \\\n",
              "0  datingsite                                 \\N   \n",
              "1  datingsite                         Viva Forum   \n",
              "2  datingsite  Viva Forum,www.viva.nl,Viva Forum   \n",
              "3  datingsite                                 \\N   \n",
              "4  datingsite  Viva Forum,www.viva.nl,Viva Forum   \n",
              "5        ptss                         Viva Forum   \n",
              "6        ptss                         Viva Forum   \n",
              "7        ptss                         Viva Forum   \n",
              "8        ptss                         Viva Forum   \n",
              "9        ptss                         Viva Forum   \n",
              "\n",
              "                                              query  \\\n",
              "0  Nog steeds actief op datingsite, na aantal dates   \n",
              "1                                                \\N   \n",
              "2                                                \\N   \n",
              "3            hij is nog steeds actief op datingsite   \n",
              "4                                                \\N   \n",
              "5                                                \\N   \n",
              "6                                                \\N   \n",
              "7                                                \\N   \n",
              "8                                                \\N   \n",
              "9                                                \\N   \n",
              "\n",
              "                                           click_web  \n",
              "0    http://forum.viva.nl/forum/list_messages/213020  \n",
              "1                                                 \\N  \n",
              "2                                                 \\N  \n",
              "3  http://forum.viva.nl/forum/relaties/hij-is-nog...  \n",
              "4                                                 \\N  \n",
              "5                                                 \\N  \n",
              "6                                                 \\N  \n",
              "7                                                 \\N  \n",
              "8                                                 \\N  \n",
              "9                                                 \\N  "
            ],
            "text/html": [
              "\n",
              "  <div id=\"df-cc2edba2-3b60-4b3b-b39b-09d1ff299d8d\">\n",
              "    <div class=\"colab-df-container\">\n",
              "      <div>\n",
              "<style scoped>\n",
              "    .dataframe tbody tr th:only-of-type {\n",
              "        vertical-align: middle;\n",
              "    }\n",
              "\n",
              "    .dataframe tbody tr th {\n",
              "        vertical-align: top;\n",
              "    }\n",
              "\n",
              "    .dataframe thead th {\n",
              "        text-align: right;\n",
              "    }\n",
              "</style>\n",
              "<table border=\"1\" class=\"dataframe\">\n",
              "  <thead>\n",
              "    <tr style=\"text-align: right;\">\n",
              "      <th></th>\n",
              "      <th>timestamp</th>\n",
              "      <th>1</th>\n",
              "      <th>2</th>\n",
              "      <th>3</th>\n",
              "      <th>4</th>\n",
              "      <th>SQI</th>\n",
              "      <th>datingsite</th>\n",
              "      <th>website</th>\n",
              "      <th>query</th>\n",
              "      <th>click_web</th>\n",
              "    </tr>\n",
              "  </thead>\n",
              "  <tbody>\n",
              "    <tr>\n",
              "      <th>0</th>\n",
              "      <td>2015-12-07 01:59:37.681+0000</td>\n",
              "      <td>c</td>\n",
              "      <td>ez0akax062</td>\n",
              "      <td>\\N</td>\n",
              "      <td>3</td>\n",
              "      <td>\\N</td>\n",
              "      <td>datingsite</td>\n",
              "      <td>\\N</td>\n",
              "      <td>Nog steeds actief op datingsite, na aantal dates</td>\n",
              "      <td>http://forum.viva.nl/forum/list_messages/213020</td>\n",
              "    </tr>\n",
              "    <tr>\n",
              "      <th>1</th>\n",
              "      <td>2015-12-07 01:59:30.982+0000</td>\n",
              "      <td>q</td>\n",
              "      <td>ez0akax062</td>\n",
              "      <td>true</td>\n",
              "      <td>2</td>\n",
              "      <td>Search query input</td>\n",
              "      <td>datingsite</td>\n",
              "      <td>Viva Forum</td>\n",
              "      <td>\\N</td>\n",
              "      <td>\\N</td>\n",
              "    </tr>\n",
              "    <tr>\n",
              "      <th>2</th>\n",
              "      <td>2015-12-07 01:59:19.660+0000</td>\n",
              "      <td>q</td>\n",
              "      <td>ez0akax062</td>\n",
              "      <td>true</td>\n",
              "      <td>0</td>\n",
              "      <td>Search query input</td>\n",
              "      <td>datingsite</td>\n",
              "      <td>Viva Forum,www.viva.nl,Viva Forum</td>\n",
              "      <td>\\N</td>\n",
              "      <td>\\N</td>\n",
              "    </tr>\n",
              "    <tr>\n",
              "      <th>3</th>\n",
              "      <td>2015-12-07 01:57:10.915+0000</td>\n",
              "      <td>c</td>\n",
              "      <td>ez0akax062</td>\n",
              "      <td>\\N</td>\n",
              "      <td>2</td>\n",
              "      <td>\\N</td>\n",
              "      <td>datingsite</td>\n",
              "      <td>\\N</td>\n",
              "      <td>hij is nog steeds actief op datingsite</td>\n",
              "      <td>http://forum.viva.nl/forum/relaties/hij-is-nog...</td>\n",
              "    </tr>\n",
              "    <tr>\n",
              "      <th>4</th>\n",
              "      <td>2015-12-07 01:56:09.492+0000</td>\n",
              "      <td>q</td>\n",
              "      <td>ez0akax062</td>\n",
              "      <td>true</td>\n",
              "      <td>1</td>\n",
              "      <td>Search query input</td>\n",
              "      <td>datingsite</td>\n",
              "      <td>Viva Forum,www.viva.nl,Viva Forum</td>\n",
              "      <td>\\N</td>\n",
              "      <td>\\N</td>\n",
              "    </tr>\n",
              "    <tr>\n",
              "      <th>5</th>\n",
              "      <td>2015-12-07 01:37:26.790+0000</td>\n",
              "      <td>q</td>\n",
              "      <td>r8e8uis527</td>\n",
              "      <td>true</td>\n",
              "      <td>7</td>\n",
              "      <td>Search query input</td>\n",
              "      <td>ptss</td>\n",
              "      <td>Viva Forum</td>\n",
              "      <td>\\N</td>\n",
              "      <td>\\N</td>\n",
              "    </tr>\n",
              "    <tr>\n",
              "      <th>6</th>\n",
              "      <td>2015-12-07 01:37:20.128+0000</td>\n",
              "      <td>q</td>\n",
              "      <td>r8e8uis527</td>\n",
              "      <td>true</td>\n",
              "      <td>6</td>\n",
              "      <td>Search query input</td>\n",
              "      <td>ptss</td>\n",
              "      <td>Viva Forum</td>\n",
              "      <td>\\N</td>\n",
              "      <td>\\N</td>\n",
              "    </tr>\n",
              "    <tr>\n",
              "      <th>7</th>\n",
              "      <td>2015-12-07 01:37:16.770+0000</td>\n",
              "      <td>q</td>\n",
              "      <td>r8e8uis527</td>\n",
              "      <td>true</td>\n",
              "      <td>5</td>\n",
              "      <td>Search query input</td>\n",
              "      <td>ptss</td>\n",
              "      <td>Viva Forum</td>\n",
              "      <td>\\N</td>\n",
              "      <td>\\N</td>\n",
              "    </tr>\n",
              "    <tr>\n",
              "      <th>8</th>\n",
              "      <td>2015-12-07 01:37:13.879+0000</td>\n",
              "      <td>q</td>\n",
              "      <td>r8e8uis527</td>\n",
              "      <td>true</td>\n",
              "      <td>4</td>\n",
              "      <td>Search query input</td>\n",
              "      <td>ptss</td>\n",
              "      <td>Viva Forum</td>\n",
              "      <td>\\N</td>\n",
              "      <td>\\N</td>\n",
              "    </tr>\n",
              "    <tr>\n",
              "      <th>9</th>\n",
              "      <td>2015-12-07 01:37:07.896+0000</td>\n",
              "      <td>q</td>\n",
              "      <td>r8e8uis527</td>\n",
              "      <td>true</td>\n",
              "      <td>3</td>\n",
              "      <td>Search query input</td>\n",
              "      <td>ptss</td>\n",
              "      <td>Viva Forum</td>\n",
              "      <td>\\N</td>\n",
              "      <td>\\N</td>\n",
              "    </tr>\n",
              "  </tbody>\n",
              "</table>\n",
              "</div>\n",
              "      <button class=\"colab-df-convert\" onclick=\"convertToInteractive('df-cc2edba2-3b60-4b3b-b39b-09d1ff299d8d')\"\n",
              "              title=\"Convert this dataframe to an interactive table.\"\n",
              "              style=\"display:none;\">\n",
              "        \n",
              "  <svg xmlns=\"http://www.w3.org/2000/svg\" height=\"24px\"viewBox=\"0 0 24 24\"\n",
              "       width=\"24px\">\n",
              "    <path d=\"M0 0h24v24H0V0z\" fill=\"none\"/>\n",
              "    <path d=\"M18.56 5.44l.94 2.06.94-2.06 2.06-.94-2.06-.94-.94-2.06-.94 2.06-2.06.94zm-11 1L8.5 8.5l.94-2.06 2.06-.94-2.06-.94L8.5 2.5l-.94 2.06-2.06.94zm10 10l.94 2.06.94-2.06 2.06-.94-2.06-.94-.94-2.06-.94 2.06-2.06.94z\"/><path d=\"M17.41 7.96l-1.37-1.37c-.4-.4-.92-.59-1.43-.59-.52 0-1.04.2-1.43.59L10.3 9.45l-7.72 7.72c-.78.78-.78 2.05 0 2.83L4 21.41c.39.39.9.59 1.41.59.51 0 1.02-.2 1.41-.59l7.78-7.78 2.81-2.81c.8-.78.8-2.07 0-2.86zM5.41 20L4 18.59l7.72-7.72 1.47 1.35L5.41 20z\"/>\n",
              "  </svg>\n",
              "      </button>\n",
              "      \n",
              "  <style>\n",
              "    .colab-df-container {\n",
              "      display:flex;\n",
              "      flex-wrap:wrap;\n",
              "      gap: 12px;\n",
              "    }\n",
              "\n",
              "    .colab-df-convert {\n",
              "      background-color: #E8F0FE;\n",
              "      border: none;\n",
              "      border-radius: 50%;\n",
              "      cursor: pointer;\n",
              "      display: none;\n",
              "      fill: #1967D2;\n",
              "      height: 32px;\n",
              "      padding: 0 0 0 0;\n",
              "      width: 32px;\n",
              "    }\n",
              "\n",
              "    .colab-df-convert:hover {\n",
              "      background-color: #E2EBFA;\n",
              "      box-shadow: 0px 1px 2px rgba(60, 64, 67, 0.3), 0px 1px 3px 1px rgba(60, 64, 67, 0.15);\n",
              "      fill: #174EA6;\n",
              "    }\n",
              "\n",
              "    [theme=dark] .colab-df-convert {\n",
              "      background-color: #3B4455;\n",
              "      fill: #D2E3FC;\n",
              "    }\n",
              "\n",
              "    [theme=dark] .colab-df-convert:hover {\n",
              "      background-color: #434B5C;\n",
              "      box-shadow: 0px 1px 3px 1px rgba(0, 0, 0, 0.15);\n",
              "      filter: drop-shadow(0px 1px 2px rgba(0, 0, 0, 0.3));\n",
              "      fill: #FFFFFF;\n",
              "    }\n",
              "  </style>\n",
              "\n",
              "      <script>\n",
              "        const buttonEl =\n",
              "          document.querySelector('#df-cc2edba2-3b60-4b3b-b39b-09d1ff299d8d button.colab-df-convert');\n",
              "        buttonEl.style.display =\n",
              "          google.colab.kernel.accessAllowed ? 'block' : 'none';\n",
              "\n",
              "        async function convertToInteractive(key) {\n",
              "          const element = document.querySelector('#df-cc2edba2-3b60-4b3b-b39b-09d1ff299d8d');\n",
              "          const dataTable =\n",
              "            await google.colab.kernel.invokeFunction('convertToInteractive',\n",
              "                                                     [key], {});\n",
              "          if (!dataTable) return;\n",
              "\n",
              "          const docLinkHtml = 'Like what you see? Visit the ' +\n",
              "            '<a target=\"_blank\" href=https://colab.research.google.com/notebooks/data_table.ipynb>data table notebook</a>'\n",
              "            + ' to learn more about interactive tables.';\n",
              "          element.innerHTML = '';\n",
              "          dataTable['output_type'] = 'display_data';\n",
              "          await google.colab.output.renderOutput(dataTable, element);\n",
              "          const docLink = document.createElement('div');\n",
              "          docLink.innerHTML = docLinkHtml;\n",
              "          element.appendChild(docLink);\n",
              "        }\n",
              "      </script>\n",
              "    </div>\n",
              "  </div>\n",
              "  "
            ]
          },
          "metadata": {},
          "execution_count": 4
        }
      ]
    },
    {
      "cell_type": "code",
      "source": [
        "# remove null data\n",
        "data_nonan = data.copy()\n",
        "data_nonan.replace(r'\\N',np.nan,inplace=True)\n",
        "data_nonan.head(10)\n"
      ],
      "metadata": {
        "colab": {
          "base_uri": "https://localhost:8080/",
          "height": 843
        },
        "id": "lfc51cEmsGaO",
        "outputId": "c7e08599-f97a-49c9-b710-10284ebc4391"
      },
      "execution_count": null,
      "outputs": [
        {
          "output_type": "execute_result",
          "data": {
            "text/plain": [
              "                      timestamp  1           2     3  4                 SQI  \\\n",
              "0  2015-12-07 01:59:37.681+0000  c  ez0akax062   NaN  3                 NaN   \n",
              "1  2015-12-07 01:59:30.982+0000  q  ez0akax062  true  2  Search query input   \n",
              "2  2015-12-07 01:59:19.660+0000  q  ez0akax062  true  0  Search query input   \n",
              "3  2015-12-07 01:57:10.915+0000  c  ez0akax062   NaN  2                 NaN   \n",
              "4  2015-12-07 01:56:09.492+0000  q  ez0akax062  true  1  Search query input   \n",
              "5  2015-12-07 01:37:26.790+0000  q  r8e8uis527  true  7  Search query input   \n",
              "6  2015-12-07 01:37:20.128+0000  q  r8e8uis527  true  6  Search query input   \n",
              "7  2015-12-07 01:37:16.770+0000  q  r8e8uis527  true  5  Search query input   \n",
              "8  2015-12-07 01:37:13.879+0000  q  r8e8uis527  true  4  Search query input   \n",
              "9  2015-12-07 01:37:07.896+0000  q  r8e8uis527  true  3  Search query input   \n",
              "\n",
              "   datingsite                            website  \\\n",
              "0  datingsite                                NaN   \n",
              "1  datingsite                         Viva Forum   \n",
              "2  datingsite  Viva Forum,www.viva.nl,Viva Forum   \n",
              "3  datingsite                                NaN   \n",
              "4  datingsite  Viva Forum,www.viva.nl,Viva Forum   \n",
              "5        ptss                         Viva Forum   \n",
              "6        ptss                         Viva Forum   \n",
              "7        ptss                         Viva Forum   \n",
              "8        ptss                         Viva Forum   \n",
              "9        ptss                         Viva Forum   \n",
              "\n",
              "                                              query  \\\n",
              "0  Nog steeds actief op datingsite, na aantal dates   \n",
              "1                                               NaN   \n",
              "2                                               NaN   \n",
              "3            hij is nog steeds actief op datingsite   \n",
              "4                                               NaN   \n",
              "5                                               NaN   \n",
              "6                                               NaN   \n",
              "7                                               NaN   \n",
              "8                                               NaN   \n",
              "9                                               NaN   \n",
              "\n",
              "                                           click_web  \n",
              "0    http://forum.viva.nl/forum/list_messages/213020  \n",
              "1                                                NaN  \n",
              "2                                                NaN  \n",
              "3  http://forum.viva.nl/forum/relaties/hij-is-nog...  \n",
              "4                                                NaN  \n",
              "5                                                NaN  \n",
              "6                                                NaN  \n",
              "7                                                NaN  \n",
              "8                                                NaN  \n",
              "9                                                NaN  "
            ],
            "text/html": [
              "\n",
              "  <div id=\"df-eeb5f8e6-a148-4163-8c1b-560b8043714d\">\n",
              "    <div class=\"colab-df-container\">\n",
              "      <div>\n",
              "<style scoped>\n",
              "    .dataframe tbody tr th:only-of-type {\n",
              "        vertical-align: middle;\n",
              "    }\n",
              "\n",
              "    .dataframe tbody tr th {\n",
              "        vertical-align: top;\n",
              "    }\n",
              "\n",
              "    .dataframe thead th {\n",
              "        text-align: right;\n",
              "    }\n",
              "</style>\n",
              "<table border=\"1\" class=\"dataframe\">\n",
              "  <thead>\n",
              "    <tr style=\"text-align: right;\">\n",
              "      <th></th>\n",
              "      <th>timestamp</th>\n",
              "      <th>1</th>\n",
              "      <th>2</th>\n",
              "      <th>3</th>\n",
              "      <th>4</th>\n",
              "      <th>SQI</th>\n",
              "      <th>datingsite</th>\n",
              "      <th>website</th>\n",
              "      <th>query</th>\n",
              "      <th>click_web</th>\n",
              "    </tr>\n",
              "  </thead>\n",
              "  <tbody>\n",
              "    <tr>\n",
              "      <th>0</th>\n",
              "      <td>2015-12-07 01:59:37.681+0000</td>\n",
              "      <td>c</td>\n",
              "      <td>ez0akax062</td>\n",
              "      <td>NaN</td>\n",
              "      <td>3</td>\n",
              "      <td>NaN</td>\n",
              "      <td>datingsite</td>\n",
              "      <td>NaN</td>\n",
              "      <td>Nog steeds actief op datingsite, na aantal dates</td>\n",
              "      <td>http://forum.viva.nl/forum/list_messages/213020</td>\n",
              "    </tr>\n",
              "    <tr>\n",
              "      <th>1</th>\n",
              "      <td>2015-12-07 01:59:30.982+0000</td>\n",
              "      <td>q</td>\n",
              "      <td>ez0akax062</td>\n",
              "      <td>true</td>\n",
              "      <td>2</td>\n",
              "      <td>Search query input</td>\n",
              "      <td>datingsite</td>\n",
              "      <td>Viva Forum</td>\n",
              "      <td>NaN</td>\n",
              "      <td>NaN</td>\n",
              "    </tr>\n",
              "    <tr>\n",
              "      <th>2</th>\n",
              "      <td>2015-12-07 01:59:19.660+0000</td>\n",
              "      <td>q</td>\n",
              "      <td>ez0akax062</td>\n",
              "      <td>true</td>\n",
              "      <td>0</td>\n",
              "      <td>Search query input</td>\n",
              "      <td>datingsite</td>\n",
              "      <td>Viva Forum,www.viva.nl,Viva Forum</td>\n",
              "      <td>NaN</td>\n",
              "      <td>NaN</td>\n",
              "    </tr>\n",
              "    <tr>\n",
              "      <th>3</th>\n",
              "      <td>2015-12-07 01:57:10.915+0000</td>\n",
              "      <td>c</td>\n",
              "      <td>ez0akax062</td>\n",
              "      <td>NaN</td>\n",
              "      <td>2</td>\n",
              "      <td>NaN</td>\n",
              "      <td>datingsite</td>\n",
              "      <td>NaN</td>\n",
              "      <td>hij is nog steeds actief op datingsite</td>\n",
              "      <td>http://forum.viva.nl/forum/relaties/hij-is-nog...</td>\n",
              "    </tr>\n",
              "    <tr>\n",
              "      <th>4</th>\n",
              "      <td>2015-12-07 01:56:09.492+0000</td>\n",
              "      <td>q</td>\n",
              "      <td>ez0akax062</td>\n",
              "      <td>true</td>\n",
              "      <td>1</td>\n",
              "      <td>Search query input</td>\n",
              "      <td>datingsite</td>\n",
              "      <td>Viva Forum,www.viva.nl,Viva Forum</td>\n",
              "      <td>NaN</td>\n",
              "      <td>NaN</td>\n",
              "    </tr>\n",
              "    <tr>\n",
              "      <th>5</th>\n",
              "      <td>2015-12-07 01:37:26.790+0000</td>\n",
              "      <td>q</td>\n",
              "      <td>r8e8uis527</td>\n",
              "      <td>true</td>\n",
              "      <td>7</td>\n",
              "      <td>Search query input</td>\n",
              "      <td>ptss</td>\n",
              "      <td>Viva Forum</td>\n",
              "      <td>NaN</td>\n",
              "      <td>NaN</td>\n",
              "    </tr>\n",
              "    <tr>\n",
              "      <th>6</th>\n",
              "      <td>2015-12-07 01:37:20.128+0000</td>\n",
              "      <td>q</td>\n",
              "      <td>r8e8uis527</td>\n",
              "      <td>true</td>\n",
              "      <td>6</td>\n",
              "      <td>Search query input</td>\n",
              "      <td>ptss</td>\n",
              "      <td>Viva Forum</td>\n",
              "      <td>NaN</td>\n",
              "      <td>NaN</td>\n",
              "    </tr>\n",
              "    <tr>\n",
              "      <th>7</th>\n",
              "      <td>2015-12-07 01:37:16.770+0000</td>\n",
              "      <td>q</td>\n",
              "      <td>r8e8uis527</td>\n",
              "      <td>true</td>\n",
              "      <td>5</td>\n",
              "      <td>Search query input</td>\n",
              "      <td>ptss</td>\n",
              "      <td>Viva Forum</td>\n",
              "      <td>NaN</td>\n",
              "      <td>NaN</td>\n",
              "    </tr>\n",
              "    <tr>\n",
              "      <th>8</th>\n",
              "      <td>2015-12-07 01:37:13.879+0000</td>\n",
              "      <td>q</td>\n",
              "      <td>r8e8uis527</td>\n",
              "      <td>true</td>\n",
              "      <td>4</td>\n",
              "      <td>Search query input</td>\n",
              "      <td>ptss</td>\n",
              "      <td>Viva Forum</td>\n",
              "      <td>NaN</td>\n",
              "      <td>NaN</td>\n",
              "    </tr>\n",
              "    <tr>\n",
              "      <th>9</th>\n",
              "      <td>2015-12-07 01:37:07.896+0000</td>\n",
              "      <td>q</td>\n",
              "      <td>r8e8uis527</td>\n",
              "      <td>true</td>\n",
              "      <td>3</td>\n",
              "      <td>Search query input</td>\n",
              "      <td>ptss</td>\n",
              "      <td>Viva Forum</td>\n",
              "      <td>NaN</td>\n",
              "      <td>NaN</td>\n",
              "    </tr>\n",
              "  </tbody>\n",
              "</table>\n",
              "</div>\n",
              "      <button class=\"colab-df-convert\" onclick=\"convertToInteractive('df-eeb5f8e6-a148-4163-8c1b-560b8043714d')\"\n",
              "              title=\"Convert this dataframe to an interactive table.\"\n",
              "              style=\"display:none;\">\n",
              "        \n",
              "  <svg xmlns=\"http://www.w3.org/2000/svg\" height=\"24px\"viewBox=\"0 0 24 24\"\n",
              "       width=\"24px\">\n",
              "    <path d=\"M0 0h24v24H0V0z\" fill=\"none\"/>\n",
              "    <path d=\"M18.56 5.44l.94 2.06.94-2.06 2.06-.94-2.06-.94-.94-2.06-.94 2.06-2.06.94zm-11 1L8.5 8.5l.94-2.06 2.06-.94-2.06-.94L8.5 2.5l-.94 2.06-2.06.94zm10 10l.94 2.06.94-2.06 2.06-.94-2.06-.94-.94-2.06-.94 2.06-2.06.94z\"/><path d=\"M17.41 7.96l-1.37-1.37c-.4-.4-.92-.59-1.43-.59-.52 0-1.04.2-1.43.59L10.3 9.45l-7.72 7.72c-.78.78-.78 2.05 0 2.83L4 21.41c.39.39.9.59 1.41.59.51 0 1.02-.2 1.41-.59l7.78-7.78 2.81-2.81c.8-.78.8-2.07 0-2.86zM5.41 20L4 18.59l7.72-7.72 1.47 1.35L5.41 20z\"/>\n",
              "  </svg>\n",
              "      </button>\n",
              "      \n",
              "  <style>\n",
              "    .colab-df-container {\n",
              "      display:flex;\n",
              "      flex-wrap:wrap;\n",
              "      gap: 12px;\n",
              "    }\n",
              "\n",
              "    .colab-df-convert {\n",
              "      background-color: #E8F0FE;\n",
              "      border: none;\n",
              "      border-radius: 50%;\n",
              "      cursor: pointer;\n",
              "      display: none;\n",
              "      fill: #1967D2;\n",
              "      height: 32px;\n",
              "      padding: 0 0 0 0;\n",
              "      width: 32px;\n",
              "    }\n",
              "\n",
              "    .colab-df-convert:hover {\n",
              "      background-color: #E2EBFA;\n",
              "      box-shadow: 0px 1px 2px rgba(60, 64, 67, 0.3), 0px 1px 3px 1px rgba(60, 64, 67, 0.15);\n",
              "      fill: #174EA6;\n",
              "    }\n",
              "\n",
              "    [theme=dark] .colab-df-convert {\n",
              "      background-color: #3B4455;\n",
              "      fill: #D2E3FC;\n",
              "    }\n",
              "\n",
              "    [theme=dark] .colab-df-convert:hover {\n",
              "      background-color: #434B5C;\n",
              "      box-shadow: 0px 1px 3px 1px rgba(0, 0, 0, 0.15);\n",
              "      filter: drop-shadow(0px 1px 2px rgba(0, 0, 0, 0.3));\n",
              "      fill: #FFFFFF;\n",
              "    }\n",
              "  </style>\n",
              "\n",
              "      <script>\n",
              "        const buttonEl =\n",
              "          document.querySelector('#df-eeb5f8e6-a148-4163-8c1b-560b8043714d button.colab-df-convert');\n",
              "        buttonEl.style.display =\n",
              "          google.colab.kernel.accessAllowed ? 'block' : 'none';\n",
              "\n",
              "        async function convertToInteractive(key) {\n",
              "          const element = document.querySelector('#df-eeb5f8e6-a148-4163-8c1b-560b8043714d');\n",
              "          const dataTable =\n",
              "            await google.colab.kernel.invokeFunction('convertToInteractive',\n",
              "                                                     [key], {});\n",
              "          if (!dataTable) return;\n",
              "\n",
              "          const docLinkHtml = 'Like what you see? Visit the ' +\n",
              "            '<a target=\"_blank\" href=https://colab.research.google.com/notebooks/data_table.ipynb>data table notebook</a>'\n",
              "            + ' to learn more about interactive tables.';\n",
              "          element.innerHTML = '';\n",
              "          dataTable['output_type'] = 'display_data';\n",
              "          await google.colab.output.renderOutput(dataTable, element);\n",
              "          const docLink = document.createElement('div');\n",
              "          docLink.innerHTML = docLinkHtml;\n",
              "          element.appendChild(docLink);\n",
              "        }\n",
              "      </script>\n",
              "    </div>\n",
              "  </div>\n",
              "  "
            ]
          },
          "metadata": {},
          "execution_count": 5
        }
      ]
    },
    {
      "cell_type": "code",
      "source": [
        "data_nonan.dropna(subset=['query','click_web'],inplace=True)"
      ],
      "metadata": {
        "id": "2cFU9xmEv765"
      },
      "execution_count": null,
      "outputs": []
    },
    {
      "cell_type": "code",
      "source": [
        "# refresh index\n",
        "df = data_nonan.reset_index(drop=True)\n",
        "df.head(10)"
      ],
      "metadata": {
        "colab": {
          "base_uri": "https://localhost:8080/",
          "height": 600
        },
        "id": "jGOL32VgubGw",
        "outputId": "091877b6-50d8-4e20-ab98-ecd15a149c20"
      },
      "execution_count": null,
      "outputs": [
        {
          "output_type": "execute_result",
          "data": {
            "text/plain": [
              "                      timestamp  1           2    3  4  SQI  \\\n",
              "0  2015-12-07 01:59:37.681+0000  c  ez0akax062  NaN  3  NaN   \n",
              "1  2015-12-07 01:57:10.915+0000  c  ez0akax062  NaN  2  NaN   \n",
              "2  2015-12-07 01:35:30.421+0000  c  cuhsbu9njf  NaN  2  NaN   \n",
              "3  2015-12-07 01:03:18.407+0000  c  8fl0ud7qbe  NaN  2  NaN   \n",
              "4  2015-12-07 01:03:00.478+0000  c  8fl0ud7qbe  NaN  2  NaN   \n",
              "5  2015-12-07 01:02:48.246+0000  c  8fl0ud7qbe  NaN  2  NaN   \n",
              "6  2015-12-07 15:39:40.806+0000  c  9493muklj3  NaN  3  NaN   \n",
              "7  2015-12-07 15:57:03.020+0000  c  bajbev5ja3  NaN  6  NaN   \n",
              "8  2015-12-07 15:57:01.388+0000  c  gqf1t25se1  NaN  4  NaN   \n",
              "9  2015-12-07 07:55:02.694+0000  c  2qh2wezs53  NaN  3  NaN   \n",
              "\n",
              "           datingsite website  \\\n",
              "0          datingsite     NaN   \n",
              "1          datingsite     NaN   \n",
              "2     hyperventilatie     NaN   \n",
              "3              mis ex     NaN   \n",
              "4              mis ex     NaN   \n",
              "5              mis ex     NaN   \n",
              "6        zwanger 2015     NaN   \n",
              "7               naakt     NaN   \n",
              "8         dermatoloog     NaN   \n",
              "9  stoppen met de pil     NaN   \n",
              "\n",
              "                                              query  \\\n",
              "0  Nog steeds actief op datingsite, na aantal dates   \n",
              "1            hij is nog steeds actief op datingsite   \n",
              "2    Angt/paniekstoornis/chronische hyperventilatie   \n",
              "3                       mis ex na 6 jaar nog steeds   \n",
              "4                                    Ik mis mijn ex   \n",
              "5                         Ik mis mijn ex ontzettend   \n",
              "6                           zwanger worden in 2015!   \n",
              "7                                   mannelijk naakt   \n",
              "8                           Roaccutane,maar bang...   \n",
              "9             Stoppen met de pil...??? Aaaargh....!   \n",
              "\n",
              "                                           click_web  \n",
              "0    http://forum.viva.nl/forum/list_messages/213020  \n",
              "1  http://forum.viva.nl/forum/relaties/hij-is-nog...  \n",
              "2  http://forum.viva.nl/forum/psyche/angtpaniekst...  \n",
              "3  http://forum.viva.nl/forum/relaties/mis-ex-na-...  \n",
              "4  http://forum.viva.nl/forum/relaties/ik-mis-mij...  \n",
              "5  http://forum.viva.nl/forum/relaties/ik-mis-mij...  \n",
              "6  http://forum.viva.nl/forum/zwanger/zwanger-wor...  \n",
              "7    http://forum.viva.nl/forum/list_messages/166851  \n",
              "8    http://forum.viva.nl/forum/list_messages/240944  \n",
              "9    http://forum.viva.nl/forum/list_messages/233230  "
            ],
            "text/html": [
              "\n",
              "  <div id=\"df-73ab02a4-928e-49c7-9f4c-a8322b101d73\">\n",
              "    <div class=\"colab-df-container\">\n",
              "      <div>\n",
              "<style scoped>\n",
              "    .dataframe tbody tr th:only-of-type {\n",
              "        vertical-align: middle;\n",
              "    }\n",
              "\n",
              "    .dataframe tbody tr th {\n",
              "        vertical-align: top;\n",
              "    }\n",
              "\n",
              "    .dataframe thead th {\n",
              "        text-align: right;\n",
              "    }\n",
              "</style>\n",
              "<table border=\"1\" class=\"dataframe\">\n",
              "  <thead>\n",
              "    <tr style=\"text-align: right;\">\n",
              "      <th></th>\n",
              "      <th>timestamp</th>\n",
              "      <th>1</th>\n",
              "      <th>2</th>\n",
              "      <th>3</th>\n",
              "      <th>4</th>\n",
              "      <th>SQI</th>\n",
              "      <th>datingsite</th>\n",
              "      <th>website</th>\n",
              "      <th>query</th>\n",
              "      <th>click_web</th>\n",
              "    </tr>\n",
              "  </thead>\n",
              "  <tbody>\n",
              "    <tr>\n",
              "      <th>0</th>\n",
              "      <td>2015-12-07 01:59:37.681+0000</td>\n",
              "      <td>c</td>\n",
              "      <td>ez0akax062</td>\n",
              "      <td>NaN</td>\n",
              "      <td>3</td>\n",
              "      <td>NaN</td>\n",
              "      <td>datingsite</td>\n",
              "      <td>NaN</td>\n",
              "      <td>Nog steeds actief op datingsite, na aantal dates</td>\n",
              "      <td>http://forum.viva.nl/forum/list_messages/213020</td>\n",
              "    </tr>\n",
              "    <tr>\n",
              "      <th>1</th>\n",
              "      <td>2015-12-07 01:57:10.915+0000</td>\n",
              "      <td>c</td>\n",
              "      <td>ez0akax062</td>\n",
              "      <td>NaN</td>\n",
              "      <td>2</td>\n",
              "      <td>NaN</td>\n",
              "      <td>datingsite</td>\n",
              "      <td>NaN</td>\n",
              "      <td>hij is nog steeds actief op datingsite</td>\n",
              "      <td>http://forum.viva.nl/forum/relaties/hij-is-nog...</td>\n",
              "    </tr>\n",
              "    <tr>\n",
              "      <th>2</th>\n",
              "      <td>2015-12-07 01:35:30.421+0000</td>\n",
              "      <td>c</td>\n",
              "      <td>cuhsbu9njf</td>\n",
              "      <td>NaN</td>\n",
              "      <td>2</td>\n",
              "      <td>NaN</td>\n",
              "      <td>hyperventilatie</td>\n",
              "      <td>NaN</td>\n",
              "      <td>Angt/paniekstoornis/chronische hyperventilatie</td>\n",
              "      <td>http://forum.viva.nl/forum/psyche/angtpaniekst...</td>\n",
              "    </tr>\n",
              "    <tr>\n",
              "      <th>3</th>\n",
              "      <td>2015-12-07 01:03:18.407+0000</td>\n",
              "      <td>c</td>\n",
              "      <td>8fl0ud7qbe</td>\n",
              "      <td>NaN</td>\n",
              "      <td>2</td>\n",
              "      <td>NaN</td>\n",
              "      <td>mis ex</td>\n",
              "      <td>NaN</td>\n",
              "      <td>mis ex na 6 jaar nog steeds</td>\n",
              "      <td>http://forum.viva.nl/forum/relaties/mis-ex-na-...</td>\n",
              "    </tr>\n",
              "    <tr>\n",
              "      <th>4</th>\n",
              "      <td>2015-12-07 01:03:00.478+0000</td>\n",
              "      <td>c</td>\n",
              "      <td>8fl0ud7qbe</td>\n",
              "      <td>NaN</td>\n",
              "      <td>2</td>\n",
              "      <td>NaN</td>\n",
              "      <td>mis ex</td>\n",
              "      <td>NaN</td>\n",
              "      <td>Ik mis mijn ex</td>\n",
              "      <td>http://forum.viva.nl/forum/relaties/ik-mis-mij...</td>\n",
              "    </tr>\n",
              "    <tr>\n",
              "      <th>5</th>\n",
              "      <td>2015-12-07 01:02:48.246+0000</td>\n",
              "      <td>c</td>\n",
              "      <td>8fl0ud7qbe</td>\n",
              "      <td>NaN</td>\n",
              "      <td>2</td>\n",
              "      <td>NaN</td>\n",
              "      <td>mis ex</td>\n",
              "      <td>NaN</td>\n",
              "      <td>Ik mis mijn ex ontzettend</td>\n",
              "      <td>http://forum.viva.nl/forum/relaties/ik-mis-mij...</td>\n",
              "    </tr>\n",
              "    <tr>\n",
              "      <th>6</th>\n",
              "      <td>2015-12-07 15:39:40.806+0000</td>\n",
              "      <td>c</td>\n",
              "      <td>9493muklj3</td>\n",
              "      <td>NaN</td>\n",
              "      <td>3</td>\n",
              "      <td>NaN</td>\n",
              "      <td>zwanger 2015</td>\n",
              "      <td>NaN</td>\n",
              "      <td>zwanger worden in 2015!</td>\n",
              "      <td>http://forum.viva.nl/forum/zwanger/zwanger-wor...</td>\n",
              "    </tr>\n",
              "    <tr>\n",
              "      <th>7</th>\n",
              "      <td>2015-12-07 15:57:03.020+0000</td>\n",
              "      <td>c</td>\n",
              "      <td>bajbev5ja3</td>\n",
              "      <td>NaN</td>\n",
              "      <td>6</td>\n",
              "      <td>NaN</td>\n",
              "      <td>naakt</td>\n",
              "      <td>NaN</td>\n",
              "      <td>mannelijk naakt</td>\n",
              "      <td>http://forum.viva.nl/forum/list_messages/166851</td>\n",
              "    </tr>\n",
              "    <tr>\n",
              "      <th>8</th>\n",
              "      <td>2015-12-07 15:57:01.388+0000</td>\n",
              "      <td>c</td>\n",
              "      <td>gqf1t25se1</td>\n",
              "      <td>NaN</td>\n",
              "      <td>4</td>\n",
              "      <td>NaN</td>\n",
              "      <td>dermatoloog</td>\n",
              "      <td>NaN</td>\n",
              "      <td>Roaccutane,maar bang...</td>\n",
              "      <td>http://forum.viva.nl/forum/list_messages/240944</td>\n",
              "    </tr>\n",
              "    <tr>\n",
              "      <th>9</th>\n",
              "      <td>2015-12-07 07:55:02.694+0000</td>\n",
              "      <td>c</td>\n",
              "      <td>2qh2wezs53</td>\n",
              "      <td>NaN</td>\n",
              "      <td>3</td>\n",
              "      <td>NaN</td>\n",
              "      <td>stoppen met de pil</td>\n",
              "      <td>NaN</td>\n",
              "      <td>Stoppen met de pil...??? Aaaargh....!</td>\n",
              "      <td>http://forum.viva.nl/forum/list_messages/233230</td>\n",
              "    </tr>\n",
              "  </tbody>\n",
              "</table>\n",
              "</div>\n",
              "      <button class=\"colab-df-convert\" onclick=\"convertToInteractive('df-73ab02a4-928e-49c7-9f4c-a8322b101d73')\"\n",
              "              title=\"Convert this dataframe to an interactive table.\"\n",
              "              style=\"display:none;\">\n",
              "        \n",
              "  <svg xmlns=\"http://www.w3.org/2000/svg\" height=\"24px\"viewBox=\"0 0 24 24\"\n",
              "       width=\"24px\">\n",
              "    <path d=\"M0 0h24v24H0V0z\" fill=\"none\"/>\n",
              "    <path d=\"M18.56 5.44l.94 2.06.94-2.06 2.06-.94-2.06-.94-.94-2.06-.94 2.06-2.06.94zm-11 1L8.5 8.5l.94-2.06 2.06-.94-2.06-.94L8.5 2.5l-.94 2.06-2.06.94zm10 10l.94 2.06.94-2.06 2.06-.94-2.06-.94-.94-2.06-.94 2.06-2.06.94z\"/><path d=\"M17.41 7.96l-1.37-1.37c-.4-.4-.92-.59-1.43-.59-.52 0-1.04.2-1.43.59L10.3 9.45l-7.72 7.72c-.78.78-.78 2.05 0 2.83L4 21.41c.39.39.9.59 1.41.59.51 0 1.02-.2 1.41-.59l7.78-7.78 2.81-2.81c.8-.78.8-2.07 0-2.86zM5.41 20L4 18.59l7.72-7.72 1.47 1.35L5.41 20z\"/>\n",
              "  </svg>\n",
              "      </button>\n",
              "      \n",
              "  <style>\n",
              "    .colab-df-container {\n",
              "      display:flex;\n",
              "      flex-wrap:wrap;\n",
              "      gap: 12px;\n",
              "    }\n",
              "\n",
              "    .colab-df-convert {\n",
              "      background-color: #E8F0FE;\n",
              "      border: none;\n",
              "      border-radius: 50%;\n",
              "      cursor: pointer;\n",
              "      display: none;\n",
              "      fill: #1967D2;\n",
              "      height: 32px;\n",
              "      padding: 0 0 0 0;\n",
              "      width: 32px;\n",
              "    }\n",
              "\n",
              "    .colab-df-convert:hover {\n",
              "      background-color: #E2EBFA;\n",
              "      box-shadow: 0px 1px 2px rgba(60, 64, 67, 0.3), 0px 1px 3px 1px rgba(60, 64, 67, 0.15);\n",
              "      fill: #174EA6;\n",
              "    }\n",
              "\n",
              "    [theme=dark] .colab-df-convert {\n",
              "      background-color: #3B4455;\n",
              "      fill: #D2E3FC;\n",
              "    }\n",
              "\n",
              "    [theme=dark] .colab-df-convert:hover {\n",
              "      background-color: #434B5C;\n",
              "      box-shadow: 0px 1px 3px 1px rgba(0, 0, 0, 0.15);\n",
              "      filter: drop-shadow(0px 1px 2px rgba(0, 0, 0, 0.3));\n",
              "      fill: #FFFFFF;\n",
              "    }\n",
              "  </style>\n",
              "\n",
              "      <script>\n",
              "        const buttonEl =\n",
              "          document.querySelector('#df-73ab02a4-928e-49c7-9f4c-a8322b101d73 button.colab-df-convert');\n",
              "        buttonEl.style.display =\n",
              "          google.colab.kernel.accessAllowed ? 'block' : 'none';\n",
              "\n",
              "        async function convertToInteractive(key) {\n",
              "          const element = document.querySelector('#df-73ab02a4-928e-49c7-9f4c-a8322b101d73');\n",
              "          const dataTable =\n",
              "            await google.colab.kernel.invokeFunction('convertToInteractive',\n",
              "                                                     [key], {});\n",
              "          if (!dataTable) return;\n",
              "\n",
              "          const docLinkHtml = 'Like what you see? Visit the ' +\n",
              "            '<a target=\"_blank\" href=https://colab.research.google.com/notebooks/data_table.ipynb>data table notebook</a>'\n",
              "            + ' to learn more about interactive tables.';\n",
              "          element.innerHTML = '';\n",
              "          dataTable['output_type'] = 'display_data';\n",
              "          await google.colab.output.renderOutput(dataTable, element);\n",
              "          const docLink = document.createElement('div');\n",
              "          docLink.innerHTML = docLinkHtml;\n",
              "          element.appendChild(docLink);\n",
              "        }\n",
              "      </script>\n",
              "    </div>\n",
              "  </div>\n",
              "  "
            ]
          },
          "metadata": {},
          "execution_count": 7
        }
      ]
    },
    {
      "cell_type": "code",
      "source": [
        ""
      ],
      "metadata": {
        "id": "1X_2CnoH70SI"
      },
      "execution_count": null,
      "outputs": []
    },
    {
      "cell_type": "markdown",
      "source": [
        "# basic data statitics"
      ],
      "metadata": {
        "id": "CdsPHSkb8rfT"
      }
    },
    {
      "cell_type": "code",
      "source": [
        "# unqiue query\n",
        "query = df['query']\n",
        "len(query.unique())\n",
        "\n",
        "# frenquency of query\n",
        "top_query = query.value_counts()[:10]\n",
        "\n",
        "# frenquency of url\n",
        "df['click_web'].value_counts()[:10]"
      ],
      "metadata": {
        "colab": {
          "base_uri": "https://localhost:8080/"
        },
        "id": "PI01L1lZ8tkr",
        "outputId": "7009f97c-3641-4ead-99fc-9b6e4e0f9478"
      },
      "execution_count": null,
      "outputs": [
        {
          "output_type": "execute_result",
          "data": {
            "text/plain": [
              "http://forum.viva.nl/forum/relaties/hersenbloeding-bij-vriend/list_messages/269993                36\n",
              "http://forum.viva.nl/forum/seks/on-topic-hij-wil-zo-vaak-anaal/list_messages/259609               34\n",
              "http://forum.viva.nl/forum/zwanger/kind-in-je-uppie-deel-6/list_messages/247697                   31\n",
              "http://forum.viva.nl/forum/psyche/hier-schrijf-ik-graag-verder-van-mij-af/list_messages/249131    29\n",
              "http://forum.viva.nl/forum/list_messages/244326                                                   29\n",
              "http://forum.viva.nl/forum/kinderen/kind-misbruikt-hoe-nu-verder/list_messages/248992             27\n",
              "http://forum.viva.nl/forum/seks/beschrijf-je-laatste-neuk/list_messages/71343                     26\n",
              "http://www.viva.nl/sex-en-liefde/blog-zimra-zo-geef-je-een-goede-blowjob/                         24\n",
              "http://www.viva.nl/sex-voor-18plus/sexspeeltjes-onder-de-20-euro/                                 24\n",
              "http://forum.viva.nl/forum/zwanger/uitgerekend-november-2015/list_messages/260527                 23\n",
              "Name: click_web, dtype: int64"
            ]
          },
          "metadata": {},
          "execution_count": 9
        }
      ]
    },
    {
      "cell_type": "markdown",
      "source": [
        "# matrix"
      ],
      "metadata": {
        "id": "YHqKbVPZAme6"
      }
    },
    {
      "cell_type": "code",
      "source": [
        "q_u = df[['query','click_web']]\n",
        "top_query"
      ],
      "metadata": {
        "colab": {
          "base_uri": "https://localhost:8080/"
        },
        "id": "7Q6CV8-c9eUd",
        "outputId": "9ce1441a-e0ea-4ba3-d9a0-5c67d00793c8"
      },
      "execution_count": null,
      "outputs": [
        {
          "output_type": "execute_result",
          "data": {
            "text/plain": [
              "Kind in je Uppie - Deel 6                   37\n",
              "Hersenbloeding bij vriend                   36\n",
              "On Topic - Hij wil zo vaak anaal            34\n",
              "Kind misbruikt, hoe nu verder?              33\n",
              "beschrijf je laatste neuk                   32\n",
              "Hier schrijf ik graag verder van mij af.    29\n",
              "Ik wil gewoon eens genomen worden           29\n",
              "MMV, kan het iedereen aanraden              25\n",
              "Blog Zimra: Zo geef je een goede blowjob    24\n",
              "Utopia 3  (spoiler alert !!!)               24\n",
              "Name: query, dtype: int64"
            ]
          },
          "metadata": {},
          "execution_count": 10
        }
      ]
    },
    {
      "cell_type": "code",
      "source": [
        "len(top_query.index)"
      ],
      "metadata": {
        "colab": {
          "base_uri": "https://localhost:8080/"
        },
        "id": "JqPiI-OyC5nT",
        "outputId": "ea2d40ec-605e-46e8-c25d-5fb4be023681"
      },
      "execution_count": null,
      "outputs": [
        {
          "output_type": "execute_result",
          "data": {
            "text/plain": [
              "10"
            ]
          },
          "metadata": {},
          "execution_count": 14
        }
      ]
    },
    {
      "cell_type": "code",
      "source": [
        "\n",
        "#test = q_u[q_u['query']=list(top_query.index)]\n",
        "qUTopQueries = q_u[q_u['query'].isin(list(top_query.index))].reset_index(drop = True)\n",
        "\n",
        "# is_query = qUTopQueries['query'] == top_query.index[0]\n",
        "# url_counts = qUTopQueries[is_query]['click_web'].value_counts()\n",
        "# lst = [[url,counts] for url, counts in zip(url_counts.index,url_counts)]\n",
        "\n",
        "# lst_df = pd.DataFrame(lst,columns=['url','counts'])\n",
        "# lst2 = pd.Series([top_query.index[0] for i in range(lst_df.shape[0])])\n",
        "# lst_df.insert(0,'query',lst2)\n",
        "\n",
        "def create_table(i):\n",
        "  queryi = top_query.index[i]\n",
        "  is_query = qUTopQueries['query'] == queryi\n",
        "  url_counts = qUTopQueries[is_query][''].value_counts()\n",
        "  lst = [[url,counts] for url, counts in zip(url_counts.index,url_counts)]\n",
        "\n",
        "  lst_df = pd.DataFrame(lst,columns=['url','counts'])\n",
        "  lst2 = pd.Series([queryi for _ in range(lst_df.shape[0])])\n",
        "  lst_df.insert(0,'query',lst2)\n",
        "  return lst_df\n",
        "\n",
        "\n",
        "lst3 = []\n",
        "\n",
        "#for i in range(len(top_query)):\n",
        "for i in range(2):\n",
        "  lst3.append(create_table(i))\n",
        "\n",
        "result = pd.concat(lst3)\n",
        "\n"
      ],
      "metadata": {
        "id": "8LkYT-SeAzYB"
      },
      "execution_count": null,
      "outputs": []
    },
    {
      "cell_type": "code",
      "source": [
        "# test \n",
        "queryi = top_query.index[1]\n",
        "is_query = qUTopQueries['query'] == queryi\n",
        "selected = qUTopQueries[is_query]\n",
        "selected['click_web'].value_counts()"
      ],
      "metadata": {
        "colab": {
          "base_uri": "https://localhost:8080/"
        },
        "id": "nCQwXEwXOWEx",
        "outputId": "41d0ec54-a0e7-431e-b2c2-a56e2e862cd4"
      },
      "execution_count": null,
      "outputs": [
        {
          "output_type": "execute_result",
          "data": {
            "text/plain": [
              "http://forum.viva.nl/forum/relaties/hersenbloeding-bij-vriend/list_messages/269993    36\n",
              "Name: click_web, dtype: int64"
            ]
          },
          "metadata": {},
          "execution_count": 67
        }
      ]
    },
    {
      "cell_type": "code",
      "source": [
        "result"
      ],
      "metadata": {
        "colab": {
          "base_uri": "https://localhost:8080/",
          "height": 143
        },
        "id": "iZw8qMgG3UAp",
        "outputId": "31fb2512-876c-4bd0-a125-40a597177ebe"
      },
      "execution_count": null,
      "outputs": [
        {
          "output_type": "execute_result",
          "data": {
            "text/plain": [
              "                       query  \\\n",
              "0  Kind in je Uppie - Deel 6   \n",
              "1  Kind in je Uppie - Deel 6   \n",
              "0  Hersenbloeding bij vriend   \n",
              "\n",
              "                                                 url  counts  \n",
              "0  (Kind in je Uppie - Deel 6, http://forum.viva....      31  \n",
              "1  (Kind in je Uppie - Deel 6, http://forum.viva....       6  \n",
              "0  (Hersenbloeding bij vriend, http://forum.viva....      36  "
            ],
            "text/html": [
              "\n",
              "  <div id=\"df-4fc456ac-dce7-4065-b2cc-c4180bdb065e\">\n",
              "    <div class=\"colab-df-container\">\n",
              "      <div>\n",
              "<style scoped>\n",
              "    .dataframe tbody tr th:only-of-type {\n",
              "        vertical-align: middle;\n",
              "    }\n",
              "\n",
              "    .dataframe tbody tr th {\n",
              "        vertical-align: top;\n",
              "    }\n",
              "\n",
              "    .dataframe thead th {\n",
              "        text-align: right;\n",
              "    }\n",
              "</style>\n",
              "<table border=\"1\" class=\"dataframe\">\n",
              "  <thead>\n",
              "    <tr style=\"text-align: right;\">\n",
              "      <th></th>\n",
              "      <th>query</th>\n",
              "      <th>url</th>\n",
              "      <th>counts</th>\n",
              "    </tr>\n",
              "  </thead>\n",
              "  <tbody>\n",
              "    <tr>\n",
              "      <th>0</th>\n",
              "      <td>Kind in je Uppie - Deel 6</td>\n",
              "      <td>(Kind in je Uppie - Deel 6, http://forum.viva....</td>\n",
              "      <td>31</td>\n",
              "    </tr>\n",
              "    <tr>\n",
              "      <th>1</th>\n",
              "      <td>Kind in je Uppie - Deel 6</td>\n",
              "      <td>(Kind in je Uppie - Deel 6, http://forum.viva....</td>\n",
              "      <td>6</td>\n",
              "    </tr>\n",
              "    <tr>\n",
              "      <th>0</th>\n",
              "      <td>Hersenbloeding bij vriend</td>\n",
              "      <td>(Hersenbloeding bij vriend, http://forum.viva....</td>\n",
              "      <td>36</td>\n",
              "    </tr>\n",
              "  </tbody>\n",
              "</table>\n",
              "</div>\n",
              "      <button class=\"colab-df-convert\" onclick=\"convertToInteractive('df-4fc456ac-dce7-4065-b2cc-c4180bdb065e')\"\n",
              "              title=\"Convert this dataframe to an interactive table.\"\n",
              "              style=\"display:none;\">\n",
              "        \n",
              "  <svg xmlns=\"http://www.w3.org/2000/svg\" height=\"24px\"viewBox=\"0 0 24 24\"\n",
              "       width=\"24px\">\n",
              "    <path d=\"M0 0h24v24H0V0z\" fill=\"none\"/>\n",
              "    <path d=\"M18.56 5.44l.94 2.06.94-2.06 2.06-.94-2.06-.94-.94-2.06-.94 2.06-2.06.94zm-11 1L8.5 8.5l.94-2.06 2.06-.94-2.06-.94L8.5 2.5l-.94 2.06-2.06.94zm10 10l.94 2.06.94-2.06 2.06-.94-2.06-.94-.94-2.06-.94 2.06-2.06.94z\"/><path d=\"M17.41 7.96l-1.37-1.37c-.4-.4-.92-.59-1.43-.59-.52 0-1.04.2-1.43.59L10.3 9.45l-7.72 7.72c-.78.78-.78 2.05 0 2.83L4 21.41c.39.39.9.59 1.41.59.51 0 1.02-.2 1.41-.59l7.78-7.78 2.81-2.81c.8-.78.8-2.07 0-2.86zM5.41 20L4 18.59l7.72-7.72 1.47 1.35L5.41 20z\"/>\n",
              "  </svg>\n",
              "      </button>\n",
              "      \n",
              "  <style>\n",
              "    .colab-df-container {\n",
              "      display:flex;\n",
              "      flex-wrap:wrap;\n",
              "      gap: 12px;\n",
              "    }\n",
              "\n",
              "    .colab-df-convert {\n",
              "      background-color: #E8F0FE;\n",
              "      border: none;\n",
              "      border-radius: 50%;\n",
              "      cursor: pointer;\n",
              "      display: none;\n",
              "      fill: #1967D2;\n",
              "      height: 32px;\n",
              "      padding: 0 0 0 0;\n",
              "      width: 32px;\n",
              "    }\n",
              "\n",
              "    .colab-df-convert:hover {\n",
              "      background-color: #E2EBFA;\n",
              "      box-shadow: 0px 1px 2px rgba(60, 64, 67, 0.3), 0px 1px 3px 1px rgba(60, 64, 67, 0.15);\n",
              "      fill: #174EA6;\n",
              "    }\n",
              "\n",
              "    [theme=dark] .colab-df-convert {\n",
              "      background-color: #3B4455;\n",
              "      fill: #D2E3FC;\n",
              "    }\n",
              "\n",
              "    [theme=dark] .colab-df-convert:hover {\n",
              "      background-color: #434B5C;\n",
              "      box-shadow: 0px 1px 3px 1px rgba(0, 0, 0, 0.15);\n",
              "      filter: drop-shadow(0px 1px 2px rgba(0, 0, 0, 0.3));\n",
              "      fill: #FFFFFF;\n",
              "    }\n",
              "  </style>\n",
              "\n",
              "      <script>\n",
              "        const buttonEl =\n",
              "          document.querySelector('#df-4fc456ac-dce7-4065-b2cc-c4180bdb065e button.colab-df-convert');\n",
              "        buttonEl.style.display =\n",
              "          google.colab.kernel.accessAllowed ? 'block' : 'none';\n",
              "\n",
              "        async function convertToInteractive(key) {\n",
              "          const element = document.querySelector('#df-4fc456ac-dce7-4065-b2cc-c4180bdb065e');\n",
              "          const dataTable =\n",
              "            await google.colab.kernel.invokeFunction('convertToInteractive',\n",
              "                                                     [key], {});\n",
              "          if (!dataTable) return;\n",
              "\n",
              "          const docLinkHtml = 'Like what you see? Visit the ' +\n",
              "            '<a target=\"_blank\" href=https://colab.research.google.com/notebooks/data_table.ipynb>data table notebook</a>'\n",
              "            + ' to learn more about interactive tables.';\n",
              "          element.innerHTML = '';\n",
              "          dataTable['output_type'] = 'display_data';\n",
              "          await google.colab.output.renderOutput(dataTable, element);\n",
              "          const docLink = document.createElement('div');\n",
              "          docLink.innerHTML = docLinkHtml;\n",
              "          element.appendChild(docLink);\n",
              "        }\n",
              "      </script>\n",
              "    </div>\n",
              "  </div>\n",
              "  "
            ]
          },
          "metadata": {},
          "execution_count": 62
        }
      ]
    },
    {
      "cell_type": "code",
      "source": [
        "matrix = pd.pivot_table(result,values='counts',index='query',columns='url')\n"
      ],
      "metadata": {
        "id": "O1IcRTRNXaRx"
      },
      "execution_count": null,
      "outputs": []
    },
    {
      "cell_type": "code",
      "source": [
        "cosdf = matrix.copy(deep=True)\n",
        "cosdf.replace(np.nan,0,inplace=True)"
      ],
      "metadata": {
        "id": "2_mLxJmI-4vx"
      },
      "execution_count": null,
      "outputs": []
    },
    {
      "cell_type": "code",
      "source": [
        "cosdf.values"
      ],
      "metadata": {
        "colab": {
          "base_uri": "https://localhost:8080/"
        },
        "id": "KhnlgU5X_qHA",
        "outputId": "6ee3a417-3f88-4893-fbf0-b82823fc417c"
      },
      "execution_count": null,
      "outputs": [
        {
          "output_type": "execute_result",
          "data": {
            "text/plain": [
              "array([[ 0.,  0.,  0.,  0.,  0.,  0.,  0.,  0.,  0.,  0.,  0.,  0.,  0.,\n",
              "         0., 24.],\n",
              "       [ 0.,  0.,  0.,  0.,  0.,  0.,  0.,  0.,  0., 36.,  0.,  0.,  0.,\n",
              "         0.,  0.],\n",
              "       [ 0.,  0.,  0.,  0.,  0.,  0.,  0.,  0., 29.,  0.,  0.,  0.,  0.,\n",
              "         0.,  0.],\n",
              "       [ 0.,  0., 29.,  0.,  0.,  0.,  0.,  0.,  0.,  0.,  0.,  0.,  0.,\n",
              "         0.,  0.],\n",
              "       [ 0.,  0.,  0.,  6.,  0.,  0.,  0.,  0.,  0.,  0.,  0.,  0.,  0.,\n",
              "        31.,  0.],\n",
              "       [ 0., 27.,  0.,  0.,  6.,  0.,  0.,  0.,  0.,  0.,  0.,  0.,  0.,\n",
              "         0.,  0.],\n",
              "       [ 0.,  0.,  0.,  0.,  0.,  0.,  6.,  0.,  0.,  0.,  0., 19.,  0.,\n",
              "         0.,  0.],\n",
              "       [ 0.,  0.,  0.,  0.,  0.,  0.,  0.,  0.,  0.,  0.,  0.,  0., 34.,\n",
              "         0.,  0.],\n",
              "       [23.,  0.,  0.,  0.,  0.,  1.,  0.,  0.,  0.,  0.,  0.,  0.,  0.,\n",
              "         0.,  0.],\n",
              "       [ 0.,  0.,  0.,  0.,  0.,  0.,  0.,  6.,  0.,  0., 26.,  0.,  0.,\n",
              "         0.,  0.]])"
            ]
          },
          "metadata": {},
          "execution_count": 43
        }
      ]
    },
    {
      "cell_type": "code",
      "source": [
        "from sklearn.metrics.pairwise import cosine_similarity\n",
        "similarities_sparse = cosine_similarity(cosdf,dense_output=False)\n",
        "print('pairwise sparse output:\\n {}\\n'.format(similarities_sparse))"
      ],
      "metadata": {
        "colab": {
          "base_uri": "https://localhost:8080/"
        },
        "id": "AAxJe0K2AAuF",
        "outputId": "7e9a710e-6ebf-4b5a-aeac-3387dfa75bcd"
      },
      "execution_count": null,
      "outputs": [
        {
          "output_type": "stream",
          "name": "stdout",
          "text": [
            "pairwise sparse output:\n",
            " [[1. 0. 0. 0. 0. 0. 0. 0. 0. 0.]\n",
            " [0. 1. 0. 0. 0. 0. 0. 0. 0. 0.]\n",
            " [0. 0. 1. 0. 0. 0. 0. 0. 0. 0.]\n",
            " [0. 0. 0. 1. 0. 0. 0. 0. 0. 0.]\n",
            " [0. 0. 0. 0. 1. 0. 0. 0. 0. 0.]\n",
            " [0. 0. 0. 0. 0. 1. 0. 0. 0. 0.]\n",
            " [0. 0. 0. 0. 0. 0. 1. 0. 0. 0.]\n",
            " [0. 0. 0. 0. 0. 0. 0. 1. 0. 0.]\n",
            " [0. 0. 0. 0. 0. 0. 0. 0. 1. 0.]\n",
            " [0. 0. 0. 0. 0. 0. 0. 0. 0. 1.]]\n",
            "\n"
          ]
        }
      ]
    },
    {
      "cell_type": "code",
      "source": [
        "from scipy import sparse\n",
        "from sklearn.metrics.pairwise import cosine_similarity\n",
        "\n",
        "A_sparce = sparse.csr_matrix(cosdf.values)\n",
        "similarities_sparse = cosine_similarity(A_sparce,dense_output=False)\n",
        "print('pairwise sparse output:\\n {}\\n'.format(similarities_sparse))"
      ],
      "metadata": {
        "colab": {
          "base_uri": "https://localhost:8080/"
        },
        "id": "xnbgaKPBBORF",
        "outputId": "42039175-36e4-416b-bba7-556b072a826e"
      },
      "execution_count": null,
      "outputs": [
        {
          "output_type": "stream",
          "name": "stdout",
          "text": [
            "pairwise sparse output:\n",
            "   (0, 0)\t1.0\n",
            "  (1, 1)\t1.0\n",
            "  (2, 2)\t1.0\n",
            "  (3, 3)\t1.0\n",
            "  (4, 4)\t1.0\n",
            "  (5, 5)\t1.0000000000000002\n",
            "  (6, 6)\t0.9999999999999999\n",
            "  (7, 7)\t1.0\n",
            "  (8, 8)\t1.0\n",
            "  (9, 9)\t1.0\n",
            "\n"
          ]
        }
      ]
    },
    {
      "cell_type": "code",
      "source": [
        "import sklearn.preprocessing as pp\n",
        "\n",
        "def cosine_similarities(mat):\n",
        "    col_normed_mat = pp.normalize(mat.tocsc(), axis=0)\n",
        "    return col_normed_mat.T * col_normed_mat\n",
        "\n",
        "print(cosine_similarities(cosdf))"
      ],
      "metadata": {
        "colab": {
          "base_uri": "https://localhost:8080/",
          "height": 351
        },
        "id": "Zr8HSJH_J9aV",
        "outputId": "d0602c7d-506e-48cd-c9cc-311195b4ce1a"
      },
      "execution_count": null,
      "outputs": [
        {
          "output_type": "error",
          "ename": "AttributeError",
          "evalue": "ignored",
          "traceback": [
            "\u001b[0;31m---------------------------------------------------------------------------\u001b[0m",
            "\u001b[0;31mAttributeError\u001b[0m                            Traceback (most recent call last)",
            "\u001b[0;32m<ipython-input-53-6fae17c5e8c2>\u001b[0m in \u001b[0;36m<module>\u001b[0;34m()\u001b[0m\n\u001b[1;32m      5\u001b[0m     \u001b[0;32mreturn\u001b[0m \u001b[0mcol_normed_mat\u001b[0m\u001b[0;34m.\u001b[0m\u001b[0mT\u001b[0m \u001b[0;34m*\u001b[0m \u001b[0mcol_normed_mat\u001b[0m\u001b[0;34m\u001b[0m\u001b[0;34m\u001b[0m\u001b[0m\n\u001b[1;32m      6\u001b[0m \u001b[0;34m\u001b[0m\u001b[0m\n\u001b[0;32m----> 7\u001b[0;31m \u001b[0mprint\u001b[0m\u001b[0;34m(\u001b[0m\u001b[0mcosine_similarities\u001b[0m\u001b[0;34m(\u001b[0m\u001b[0mcosdf\u001b[0m\u001b[0;34m)\u001b[0m\u001b[0;34m)\u001b[0m\u001b[0;34m\u001b[0m\u001b[0;34m\u001b[0m\u001b[0m\n\u001b[0m",
            "\u001b[0;32m<ipython-input-53-6fae17c5e8c2>\u001b[0m in \u001b[0;36mcosine_similarities\u001b[0;34m(mat)\u001b[0m\n\u001b[1;32m      2\u001b[0m \u001b[0;34m\u001b[0m\u001b[0m\n\u001b[1;32m      3\u001b[0m \u001b[0;32mdef\u001b[0m \u001b[0mcosine_similarities\u001b[0m\u001b[0;34m(\u001b[0m\u001b[0mmat\u001b[0m\u001b[0;34m)\u001b[0m\u001b[0;34m:\u001b[0m\u001b[0;34m\u001b[0m\u001b[0;34m\u001b[0m\u001b[0m\n\u001b[0;32m----> 4\u001b[0;31m     \u001b[0mcol_normed_mat\u001b[0m \u001b[0;34m=\u001b[0m \u001b[0mpp\u001b[0m\u001b[0;34m.\u001b[0m\u001b[0mnormalize\u001b[0m\u001b[0;34m(\u001b[0m\u001b[0mmat\u001b[0m\u001b[0;34m.\u001b[0m\u001b[0mtocsc\u001b[0m\u001b[0;34m(\u001b[0m\u001b[0;34m)\u001b[0m\u001b[0;34m,\u001b[0m \u001b[0maxis\u001b[0m\u001b[0;34m=\u001b[0m\u001b[0;36m0\u001b[0m\u001b[0;34m)\u001b[0m\u001b[0;34m\u001b[0m\u001b[0;34m\u001b[0m\u001b[0m\n\u001b[0m\u001b[1;32m      5\u001b[0m     \u001b[0;32mreturn\u001b[0m \u001b[0mcol_normed_mat\u001b[0m\u001b[0;34m.\u001b[0m\u001b[0mT\u001b[0m \u001b[0;34m*\u001b[0m \u001b[0mcol_normed_mat\u001b[0m\u001b[0;34m\u001b[0m\u001b[0;34m\u001b[0m\u001b[0m\n\u001b[1;32m      6\u001b[0m \u001b[0;34m\u001b[0m\u001b[0m\n",
            "\u001b[0;32m/usr/local/lib/python3.7/dist-packages/pandas/core/generic.py\u001b[0m in \u001b[0;36m__getattr__\u001b[0;34m(self, name)\u001b[0m\n\u001b[1;32m   5485\u001b[0m         ):\n\u001b[1;32m   5486\u001b[0m             \u001b[0;32mreturn\u001b[0m \u001b[0mself\u001b[0m\u001b[0;34m[\u001b[0m\u001b[0mname\u001b[0m\u001b[0;34m]\u001b[0m\u001b[0;34m\u001b[0m\u001b[0;34m\u001b[0m\u001b[0m\n\u001b[0;32m-> 5487\u001b[0;31m         \u001b[0;32mreturn\u001b[0m \u001b[0mobject\u001b[0m\u001b[0;34m.\u001b[0m\u001b[0m__getattribute__\u001b[0m\u001b[0;34m(\u001b[0m\u001b[0mself\u001b[0m\u001b[0;34m,\u001b[0m \u001b[0mname\u001b[0m\u001b[0;34m)\u001b[0m\u001b[0;34m\u001b[0m\u001b[0;34m\u001b[0m\u001b[0m\n\u001b[0m\u001b[1;32m   5488\u001b[0m \u001b[0;34m\u001b[0m\u001b[0m\n\u001b[1;32m   5489\u001b[0m     \u001b[0;32mdef\u001b[0m \u001b[0m__setattr__\u001b[0m\u001b[0;34m(\u001b[0m\u001b[0mself\u001b[0m\u001b[0;34m,\u001b[0m \u001b[0mname\u001b[0m\u001b[0;34m:\u001b[0m \u001b[0mstr\u001b[0m\u001b[0;34m,\u001b[0m \u001b[0mvalue\u001b[0m\u001b[0;34m)\u001b[0m \u001b[0;34m->\u001b[0m \u001b[0;32mNone\u001b[0m\u001b[0;34m:\u001b[0m\u001b[0;34m\u001b[0m\u001b[0;34m\u001b[0m\u001b[0m\n",
            "\u001b[0;31mAttributeError\u001b[0m: 'DataFrame' object has no attribute 'tocsc'"
          ]
        }
      ]
    },
    {
      "cell_type": "code",
      "source": [
        "from sklearn.metrics.pairwise import pairwise_distances\n",
        "res = pairwise_distances(cosdf,metric='cosine')\n",
        "print(res)\n"
      ],
      "metadata": {
        "colab": {
          "base_uri": "https://localhost:8080/"
        },
        "id": "afAdhOF4KQqz",
        "outputId": "9c9854ac-d016-46ab-9a90-5e8024b15596"
      },
      "execution_count": null,
      "outputs": [
        {
          "output_type": "stream",
          "name": "stdout",
          "text": [
            "[[0.00000000e+00 1.00000000e+00 1.00000000e+00 1.00000000e+00\n",
            "  1.00000000e+00 1.00000000e+00 1.00000000e+00 1.00000000e+00\n",
            "  1.00000000e+00 1.00000000e+00]\n",
            " [1.00000000e+00 0.00000000e+00 1.00000000e+00 1.00000000e+00\n",
            "  1.00000000e+00 1.00000000e+00 1.00000000e+00 1.00000000e+00\n",
            "  1.00000000e+00 1.00000000e+00]\n",
            " [1.00000000e+00 1.00000000e+00 0.00000000e+00 1.00000000e+00\n",
            "  1.00000000e+00 1.00000000e+00 1.00000000e+00 1.00000000e+00\n",
            "  1.00000000e+00 1.00000000e+00]\n",
            " [1.00000000e+00 1.00000000e+00 1.00000000e+00 0.00000000e+00\n",
            "  1.00000000e+00 1.00000000e+00 1.00000000e+00 1.00000000e+00\n",
            "  1.00000000e+00 1.00000000e+00]\n",
            " [1.00000000e+00 1.00000000e+00 1.00000000e+00 1.00000000e+00\n",
            "  0.00000000e+00 1.00000000e+00 1.00000000e+00 1.00000000e+00\n",
            "  1.00000000e+00 1.00000000e+00]\n",
            " [1.00000000e+00 1.00000000e+00 1.00000000e+00 1.00000000e+00\n",
            "  1.00000000e+00 0.00000000e+00 1.00000000e+00 1.00000000e+00\n",
            "  1.00000000e+00 1.00000000e+00]\n",
            " [1.00000000e+00 1.00000000e+00 1.00000000e+00 1.00000000e+00\n",
            "  1.00000000e+00 1.00000000e+00 1.11022302e-16 1.00000000e+00\n",
            "  1.00000000e+00 1.00000000e+00]\n",
            " [1.00000000e+00 1.00000000e+00 1.00000000e+00 1.00000000e+00\n",
            "  1.00000000e+00 1.00000000e+00 1.00000000e+00 0.00000000e+00\n",
            "  1.00000000e+00 1.00000000e+00]\n",
            " [1.00000000e+00 1.00000000e+00 1.00000000e+00 1.00000000e+00\n",
            "  1.00000000e+00 1.00000000e+00 1.00000000e+00 1.00000000e+00\n",
            "  0.00000000e+00 1.00000000e+00]\n",
            " [1.00000000e+00 1.00000000e+00 1.00000000e+00 1.00000000e+00\n",
            "  1.00000000e+00 1.00000000e+00 1.00000000e+00 1.00000000e+00\n",
            "  1.00000000e+00 1.11022302e-16]]\n"
          ]
        }
      ]
    },
    {
      "cell_type": "code",
      "source": [
        "from numpy.linalg import norm\n",
        "A = cosdf.values[0]\n",
        "B = cosdf.values[2]\n",
        "cosine = np.dot(A,B)/(norm(A)*norm(B))\n",
        "cosine"
      ],
      "metadata": {
        "colab": {
          "base_uri": "https://localhost:8080/"
        },
        "id": "fUoCU0i6RMz3",
        "outputId": "7a37e994-02e1-48e5-cd34-8a326496d83a"
      },
      "execution_count": null,
      "outputs": [
        {
          "output_type": "execute_result",
          "data": {
            "text/plain": [
              "0.0"
            ]
          },
          "metadata": {},
          "execution_count": 71
        }
      ]
    },
    {
      "cell_type": "markdown",
      "source": [
        "# no use\n"
      ],
      "metadata": {
        "id": "IIeprzhr-1MW"
      }
    },
    {
      "cell_type": "code",
      "source": [
        "! pip install dataframe_image\n",
        "import dataframe_image as dfi"
      ],
      "metadata": {
        "colab": {
          "base_uri": "https://localhost:8080/"
        },
        "id": "yUYXXTyJ53gT",
        "outputId": "c44c12e1-36d7-484e-fbf6-9294cb4244f4"
      },
      "execution_count": null,
      "outputs": [
        {
          "output_type": "stream",
          "name": "stdout",
          "text": [
            "Collecting dataframe_image\n",
            "  Downloading dataframe_image-0.1.1-py3-none-any.whl (32 kB)\n",
            "Requirement already satisfied: requests in /usr/local/lib/python3.7/dist-packages (from dataframe_image) (2.23.0)\n",
            "Requirement already satisfied: beautifulsoup4 in /usr/local/lib/python3.7/dist-packages (from dataframe_image) (4.6.3)\n",
            "Requirement already satisfied: matplotlib>=3.1 in /usr/local/lib/python3.7/dist-packages (from dataframe_image) (3.2.2)\n",
            "Requirement already satisfied: pandas>=0.24 in /usr/local/lib/python3.7/dist-packages (from dataframe_image) (1.3.5)\n",
            "Requirement already satisfied: nbconvert>=5 in /usr/local/lib/python3.7/dist-packages (from dataframe_image) (5.6.1)\n",
            "Collecting aiohttp\n",
            "  Downloading aiohttp-3.8.1-cp37-cp37m-manylinux_2_5_x86_64.manylinux1_x86_64.manylinux_2_12_x86_64.manylinux2010_x86_64.whl (1.1 MB)\n",
            "\u001b[K     |████████████████████████████████| 1.1 MB 7.1 MB/s \n",
            "\u001b[?25hRequirement already satisfied: cycler>=0.10 in /usr/local/lib/python3.7/dist-packages (from matplotlib>=3.1->dataframe_image) (0.11.0)\n",
            "Requirement already satisfied: numpy>=1.11 in /usr/local/lib/python3.7/dist-packages (from matplotlib>=3.1->dataframe_image) (1.21.6)\n",
            "Requirement already satisfied: python-dateutil>=2.1 in /usr/local/lib/python3.7/dist-packages (from matplotlib>=3.1->dataframe_image) (2.8.2)\n",
            "Requirement already satisfied: pyparsing!=2.0.4,!=2.1.2,!=2.1.6,>=2.0.1 in /usr/local/lib/python3.7/dist-packages (from matplotlib>=3.1->dataframe_image) (3.0.8)\n",
            "Requirement already satisfied: kiwisolver>=1.0.1 in /usr/local/lib/python3.7/dist-packages (from matplotlib>=3.1->dataframe_image) (1.4.2)\n",
            "Requirement already satisfied: typing-extensions in /usr/local/lib/python3.7/dist-packages (from kiwisolver>=1.0.1->matplotlib>=3.1->dataframe_image) (4.2.0)\n",
            "Requirement already satisfied: entrypoints>=0.2.2 in /usr/local/lib/python3.7/dist-packages (from nbconvert>=5->dataframe_image) (0.4)\n",
            "Requirement already satisfied: nbformat>=4.4 in /usr/local/lib/python3.7/dist-packages (from nbconvert>=5->dataframe_image) (5.3.0)\n",
            "Requirement already satisfied: traitlets>=4.2 in /usr/local/lib/python3.7/dist-packages (from nbconvert>=5->dataframe_image) (5.1.1)\n",
            "Requirement already satisfied: testpath in /usr/local/lib/python3.7/dist-packages (from nbconvert>=5->dataframe_image) (0.6.0)\n",
            "Requirement already satisfied: jinja2>=2.4 in /usr/local/lib/python3.7/dist-packages (from nbconvert>=5->dataframe_image) (2.11.3)\n",
            "Requirement already satisfied: mistune<2,>=0.8.1 in /usr/local/lib/python3.7/dist-packages (from nbconvert>=5->dataframe_image) (0.8.4)\n",
            "Requirement already satisfied: jupyter-core in /usr/local/lib/python3.7/dist-packages (from nbconvert>=5->dataframe_image) (4.10.0)\n",
            "Requirement already satisfied: pygments in /usr/local/lib/python3.7/dist-packages (from nbconvert>=5->dataframe_image) (2.6.1)\n",
            "Requirement already satisfied: pandocfilters>=1.4.1 in /usr/local/lib/python3.7/dist-packages (from nbconvert>=5->dataframe_image) (1.5.0)\n",
            "Requirement already satisfied: defusedxml in /usr/local/lib/python3.7/dist-packages (from nbconvert>=5->dataframe_image) (0.7.1)\n",
            "Requirement already satisfied: bleach in /usr/local/lib/python3.7/dist-packages (from nbconvert>=5->dataframe_image) (5.0.0)\n",
            "Requirement already satisfied: MarkupSafe>=0.23 in /usr/local/lib/python3.7/dist-packages (from jinja2>=2.4->nbconvert>=5->dataframe_image) (2.0.1)\n",
            "Requirement already satisfied: jsonschema>=2.6 in /usr/local/lib/python3.7/dist-packages (from nbformat>=4.4->nbconvert>=5->dataframe_image) (4.3.3)\n",
            "Requirement already satisfied: fastjsonschema in /usr/local/lib/python3.7/dist-packages (from nbformat>=4.4->nbconvert>=5->dataframe_image) (2.15.3)\n",
            "Requirement already satisfied: pyrsistent!=0.17.0,!=0.17.1,!=0.17.2,>=0.14.0 in /usr/local/lib/python3.7/dist-packages (from jsonschema>=2.6->nbformat>=4.4->nbconvert>=5->dataframe_image) (0.18.1)\n",
            "Requirement already satisfied: attrs>=17.4.0 in /usr/local/lib/python3.7/dist-packages (from jsonschema>=2.6->nbformat>=4.4->nbconvert>=5->dataframe_image) (21.4.0)\n",
            "Requirement already satisfied: importlib-metadata in /usr/local/lib/python3.7/dist-packages (from jsonschema>=2.6->nbformat>=4.4->nbconvert>=5->dataframe_image) (4.11.3)\n",
            "Requirement already satisfied: importlib-resources>=1.4.0 in /usr/local/lib/python3.7/dist-packages (from jsonschema>=2.6->nbformat>=4.4->nbconvert>=5->dataframe_image) (5.7.1)\n",
            "Requirement already satisfied: zipp>=3.1.0 in /usr/local/lib/python3.7/dist-packages (from importlib-resources>=1.4.0->jsonschema>=2.6->nbformat>=4.4->nbconvert>=5->dataframe_image) (3.8.0)\n",
            "Requirement already satisfied: pytz>=2017.3 in /usr/local/lib/python3.7/dist-packages (from pandas>=0.24->dataframe_image) (2022.1)\n",
            "Requirement already satisfied: six>=1.5 in /usr/local/lib/python3.7/dist-packages (from python-dateutil>=2.1->matplotlib>=3.1->dataframe_image) (1.15.0)\n",
            "Collecting frozenlist>=1.1.1\n",
            "  Downloading frozenlist-1.3.0-cp37-cp37m-manylinux_2_5_x86_64.manylinux1_x86_64.manylinux_2_17_x86_64.manylinux2014_x86_64.whl (144 kB)\n",
            "\u001b[K     |████████████████████████████████| 144 kB 47.1 MB/s \n",
            "\u001b[?25hCollecting aiosignal>=1.1.2\n",
            "  Downloading aiosignal-1.2.0-py3-none-any.whl (8.2 kB)\n",
            "Collecting asynctest==0.13.0\n",
            "  Downloading asynctest-0.13.0-py3-none-any.whl (26 kB)\n",
            "Collecting multidict<7.0,>=4.5\n",
            "  Downloading multidict-6.0.2-cp37-cp37m-manylinux_2_17_x86_64.manylinux2014_x86_64.whl (94 kB)\n",
            "\u001b[K     |████████████████████████████████| 94 kB 2.5 MB/s \n",
            "\u001b[?25hCollecting async-timeout<5.0,>=4.0.0a3\n",
            "  Downloading async_timeout-4.0.2-py3-none-any.whl (5.8 kB)\n",
            "Collecting yarl<2.0,>=1.0\n",
            "  Downloading yarl-1.7.2-cp37-cp37m-manylinux_2_5_x86_64.manylinux1_x86_64.manylinux_2_12_x86_64.manylinux2010_x86_64.whl (271 kB)\n",
            "\u001b[K     |████████████████████████████████| 271 kB 43.2 MB/s \n",
            "\u001b[?25hRequirement already satisfied: charset-normalizer<3.0,>=2.0 in /usr/local/lib/python3.7/dist-packages (from aiohttp->dataframe_image) (2.0.12)\n",
            "Requirement already satisfied: idna>=2.0 in /usr/local/lib/python3.7/dist-packages (from yarl<2.0,>=1.0->aiohttp->dataframe_image) (2.10)\n",
            "Requirement already satisfied: webencodings in /usr/local/lib/python3.7/dist-packages (from bleach->nbconvert>=5->dataframe_image) (0.5.1)\n",
            "Requirement already satisfied: urllib3!=1.25.0,!=1.25.1,<1.26,>=1.21.1 in /usr/local/lib/python3.7/dist-packages (from requests->dataframe_image) (1.24.3)\n",
            "Requirement already satisfied: certifi>=2017.4.17 in /usr/local/lib/python3.7/dist-packages (from requests->dataframe_image) (2021.10.8)\n",
            "Requirement already satisfied: chardet<4,>=3.0.2 in /usr/local/lib/python3.7/dist-packages (from requests->dataframe_image) (3.0.4)\n",
            "Installing collected packages: multidict, frozenlist, yarl, asynctest, async-timeout, aiosignal, aiohttp, dataframe-image\n",
            "Successfully installed aiohttp-3.8.1 aiosignal-1.2.0 async-timeout-4.0.2 asynctest-0.13.0 dataframe-image-0.1.1 frozenlist-1.3.0 multidict-6.0.2 yarl-1.7.2\n"
          ]
        }
      ]
    },
    {
      "cell_type": "code",
      "source": [
        "df_styled = matrix.style.background_gradient() \n",
        "dfi.export(df_styled,\"./mytable.png\")"
      ],
      "metadata": {
        "colab": {
          "base_uri": "https://localhost:8080/",
          "height": 351
        },
        "id": "kBXMpcEX6n03",
        "outputId": "929f3be3-fd1d-446b-f8a2-8f8b2c71cbef"
      },
      "execution_count": null,
      "outputs": [
        {
          "output_type": "error",
          "ename": "OSError",
          "evalue": "ignored",
          "traceback": [
            "\u001b[0;31m---------------------------------------------------------------------------\u001b[0m",
            "\u001b[0;31mOSError\u001b[0m                                   Traceback (most recent call last)",
            "\u001b[0;32m<ipython-input-31-b68b0e005d2c>\u001b[0m in \u001b[0;36m<module>\u001b[0;34m()\u001b[0m\n\u001b[1;32m      1\u001b[0m \u001b[0mdf_styled\u001b[0m \u001b[0;34m=\u001b[0m \u001b[0mmatrix\u001b[0m\u001b[0;34m.\u001b[0m\u001b[0mstyle\u001b[0m\u001b[0;34m.\u001b[0m\u001b[0mbackground_gradient\u001b[0m\u001b[0;34m(\u001b[0m\u001b[0;34m)\u001b[0m\u001b[0;34m\u001b[0m\u001b[0;34m\u001b[0m\u001b[0m\n\u001b[0;32m----> 2\u001b[0;31m \u001b[0mdfi\u001b[0m\u001b[0;34m.\u001b[0m\u001b[0mexport\u001b[0m\u001b[0;34m(\u001b[0m\u001b[0mdf_styled\u001b[0m\u001b[0;34m,\u001b[0m\u001b[0;34m\"./mytable.png\"\u001b[0m\u001b[0;34m)\u001b[0m\u001b[0;34m\u001b[0m\u001b[0;34m\u001b[0m\u001b[0m\n\u001b[0m",
            "\u001b[0;32m/usr/local/lib/python3.7/dist-packages/dataframe_image/_pandas_accessor.py\u001b[0m in \u001b[0;36mexport\u001b[0;34m(obj, filename, fontsize, max_rows, max_cols, table_conversion, chrome_path)\u001b[0m\n\u001b[1;32m     22\u001b[0m def export(obj, filename, fontsize=14, max_rows=None, max_cols=None, \n\u001b[1;32m     23\u001b[0m                table_conversion='chrome', chrome_path=None):\n\u001b[0;32m---> 24\u001b[0;31m         \u001b[0;32mreturn\u001b[0m \u001b[0m_export\u001b[0m\u001b[0;34m(\u001b[0m\u001b[0mobj\u001b[0m\u001b[0;34m,\u001b[0m \u001b[0mfilename\u001b[0m\u001b[0;34m,\u001b[0m \u001b[0mfontsize\u001b[0m\u001b[0;34m,\u001b[0m \u001b[0mmax_rows\u001b[0m\u001b[0;34m,\u001b[0m \u001b[0mmax_cols\u001b[0m\u001b[0;34m,\u001b[0m \u001b[0mtable_conversion\u001b[0m\u001b[0;34m,\u001b[0m \u001b[0mchrome_path\u001b[0m\u001b[0;34m)\u001b[0m\u001b[0;34m\u001b[0m\u001b[0;34m\u001b[0m\u001b[0m\n\u001b[0m\u001b[1;32m     25\u001b[0m \u001b[0;34m\u001b[0m\u001b[0m\n\u001b[1;32m     26\u001b[0m \u001b[0;34m\u001b[0m\u001b[0m\n",
            "\u001b[0;32m/usr/local/lib/python3.7/dist-packages/dataframe_image/_pandas_accessor.py\u001b[0m in \u001b[0;36m_export\u001b[0;34m(obj, filename, fontsize, max_rows, max_cols, table_conversion, chrome_path)\u001b[0m\n\u001b[1;32m     31\u001b[0m     \u001b[0;32mif\u001b[0m \u001b[0mtable_conversion\u001b[0m \u001b[0;34m==\u001b[0m \u001b[0;34m'chrome'\u001b[0m\u001b[0;34m:\u001b[0m\u001b[0;34m\u001b[0m\u001b[0;34m\u001b[0m\u001b[0m\n\u001b[1;32m     32\u001b[0m         converter = Screenshot(max_rows=max_rows, max_cols=max_cols, chrome_path=chrome_path,\n\u001b[0;32m---> 33\u001b[0;31m                                fontsize=fontsize, encode_base64=False, limit_crop=False).run\n\u001b[0m\u001b[1;32m     34\u001b[0m     \u001b[0;32melse\u001b[0m\u001b[0;34m:\u001b[0m\u001b[0;34m\u001b[0m\u001b[0;34m\u001b[0m\u001b[0m\n\u001b[1;32m     35\u001b[0m         \u001b[0;32mfrom\u001b[0m \u001b[0;34m.\u001b[0m\u001b[0m_matplotlib_table\u001b[0m \u001b[0;32mimport\u001b[0m \u001b[0mTableMaker\u001b[0m\u001b[0;34m\u001b[0m\u001b[0;34m\u001b[0m\u001b[0m\n",
            "\u001b[0;32m/usr/local/lib/python3.7/dist-packages/dataframe_image/_screenshot.py\u001b[0m in \u001b[0;36m__init__\u001b[0;34m(self, center_df, max_rows, max_cols, chrome_path, fontsize, encode_base64, limit_crop)\u001b[0m\n\u001b[1;32m     74\u001b[0m         \u001b[0mself\u001b[0m\u001b[0;34m.\u001b[0m\u001b[0mss_width\u001b[0m \u001b[0;34m=\u001b[0m \u001b[0;36m1400\u001b[0m\u001b[0;34m\u001b[0m\u001b[0;34m\u001b[0m\u001b[0m\n\u001b[1;32m     75\u001b[0m         \u001b[0mself\u001b[0m\u001b[0;34m.\u001b[0m\u001b[0mss_height\u001b[0m \u001b[0;34m=\u001b[0m \u001b[0;36m900\u001b[0m\u001b[0;34m\u001b[0m\u001b[0;34m\u001b[0m\u001b[0m\n\u001b[0;32m---> 76\u001b[0;31m         \u001b[0mself\u001b[0m\u001b[0;34m.\u001b[0m\u001b[0mchrome_path\u001b[0m \u001b[0;34m=\u001b[0m \u001b[0mget_chrome_path\u001b[0m\u001b[0;34m(\u001b[0m\u001b[0mchrome_path\u001b[0m\u001b[0;34m)\u001b[0m\u001b[0;34m\u001b[0m\u001b[0;34m\u001b[0m\u001b[0m\n\u001b[0m\u001b[1;32m     77\u001b[0m         \u001b[0mself\u001b[0m\u001b[0;34m.\u001b[0m\u001b[0mcss\u001b[0m \u001b[0;34m=\u001b[0m \u001b[0mself\u001b[0m\u001b[0;34m.\u001b[0m\u001b[0mget_css\u001b[0m\u001b[0;34m(\u001b[0m\u001b[0mfontsize\u001b[0m\u001b[0;34m)\u001b[0m\u001b[0;34m\u001b[0m\u001b[0;34m\u001b[0m\u001b[0m\n\u001b[1;32m     78\u001b[0m         \u001b[0mself\u001b[0m\u001b[0;34m.\u001b[0m\u001b[0mencode_base64\u001b[0m \u001b[0;34m=\u001b[0m \u001b[0mencode_base64\u001b[0m\u001b[0;34m\u001b[0m\u001b[0;34m\u001b[0m\u001b[0m\n",
            "\u001b[0;32m/usr/local/lib/python3.7/dist-packages/dataframe_image/_screenshot.py\u001b[0m in \u001b[0;36mget_chrome_path\u001b[0;34m(chrome_path)\u001b[0m\n\u001b[1;32m     50\u001b[0m                 \u001b[0;32mif\u001b[0m \u001b[0mchrome_path\u001b[0m\u001b[0;34m:\u001b[0m\u001b[0;34m\u001b[0m\u001b[0;34m\u001b[0m\u001b[0m\n\u001b[1;32m     51\u001b[0m                     \u001b[0;32mreturn\u001b[0m \u001b[0mchrome_path\u001b[0m\u001b[0;34m\u001b[0m\u001b[0;34m\u001b[0m\u001b[0m\n\u001b[0;32m---> 52\u001b[0;31m         \u001b[0;32mraise\u001b[0m \u001b[0mOSError\u001b[0m\u001b[0;34m(\u001b[0m\u001b[0;34m\"Chrome executable not able to be found on your machine\"\u001b[0m\u001b[0;34m)\u001b[0m\u001b[0;34m\u001b[0m\u001b[0;34m\u001b[0m\u001b[0m\n\u001b[0m\u001b[1;32m     53\u001b[0m     \u001b[0;32melif\u001b[0m \u001b[0msystem\u001b[0m \u001b[0;34m==\u001b[0m \u001b[0;34m\"windows\"\u001b[0m\u001b[0;34m:\u001b[0m\u001b[0;34m\u001b[0m\u001b[0;34m\u001b[0m\u001b[0m\n\u001b[1;32m     54\u001b[0m         \u001b[0;32mimport\u001b[0m \u001b[0mwinreg\u001b[0m\u001b[0;34m\u001b[0m\u001b[0;34m\u001b[0m\u001b[0m\n",
            "\u001b[0;31mOSError\u001b[0m: Chrome executable not able to be found on your machine"
          ]
        }
      ]
    },
    {
      "cell_type": "code",
      "source": [
        "from pandas.plotting import table \n",
        "ax = plt.subplot(111, frame_on=False) # no visible frame\n",
        "ax.xaxis.set_visible(False)  # hide the x axis\n",
        "ax.yaxis.set_visible(False)  # hide the y axis\n",
        "\n",
        "table(ax, matrix)  # where df is your data frame\n",
        "\n",
        "plt.savefig('mytable.png')"
      ],
      "metadata": {
        "colab": {
          "base_uri": "https://localhost:8080/",
          "height": 380
        },
        "id": "mCSpqzuj7keV",
        "outputId": "8cefac5b-35eb-4fe0-e849-217f62ba9482"
      },
      "execution_count": null,
      "outputs": [
        {
          "output_type": "display_data",
          "data": {
            "text/plain": [
              "<Figure size 432x288 with 1 Axes>"
            ],
            "image/png": "[encoded data removed]"
          },
          "metadata": {
            "needs_background": "light"
          }
        }
      ]
    },
    {
      "cell_type": "code",
      "source": [
        "import seaborn as sns\n",
        "import matplotlib\n",
        "norm = matplotlib.colors.Normalize(-1,1)\n",
        "colors = [[norm(-1.0), \"white\"],\n",
        "        [norm( 1.0), \"white\"]]\n",
        "cmap = matplotlib.colors.LinearSegmentedColormap.from_list(\"\", colors)\n",
        "\n",
        "plot = sns.heatmap(matrix, annot=True, cmap=cmap,cbar=False)\n",
        "fig = plot.get_figure()\n",
        "fig.savefig('table.png', bbox_inches='tight')"
      ],
      "metadata": {
        "colab": {
          "base_uri": "https://localhost:8080/",
          "height": 743
        },
        "id": "ECAhL9VI8NrW",
        "outputId": "9a1625ad-81c0-4c1b-a2bd-43729ad77357"
      },
      "execution_count": null,
      "outputs": [
        {
          "output_type": "display_data",
          "data": {
            "text/plain": [
              "<Figure size 432x288 with 1 Axes>"
            ],
            "image/png": "[encoded data removed]"
          },
          "metadata": {
            "needs_background": "light"
          }
        }
      ]
    },
    {
      "cell_type": "code",
      "source": [
        "# test for each query\n",
        "is_query = qUTopQueries['query'] == top_query.index[0]\n",
        "url_counts = qUTopQueries[is_query]['click_web'].value_counts()\n"
      ],
      "metadata": {
        "id": "GGhUx-pEGSoC"
      },
      "execution_count": null,
      "outputs": []
    },
    {
      "cell_type": "code",
      "source": [
        "lst = [[url,counts] for url, counts in zip(url_counts.index,url_counts)]\n",
        "lst_df = pd.DataFrame(lst,columns=['url','counts'])\n",
        "print(lst_df)\n",
        "\n",
        "# concat a colun\n",
        "lst2 = pd.Series([top_query.index[0] for i in range(lst_df.shape[0])])\n",
        "lst2\n",
        "\n",
        "lst_df.insert(0,'query',lst2)\n",
        "\n",
        "lst_df"
      ],
      "metadata": {
        "colab": {
          "base_uri": "https://localhost:8080/",
          "height": 167
        },
        "id": "nYvA4t2aLlya",
        "outputId": "069c5697-f11c-44d2-f724-6cad12a6d977"
      },
      "execution_count": null,
      "outputs": [
        {
          "output_type": "stream",
          "name": "stdout",
          "text": [
            "                                                 url  counts\n",
            "0  http://forum.viva.nl/forum/zwanger/kind-in-je-...      31\n",
            "1    http://forum.viva.nl/forum/list_messages/247697       6\n"
          ]
        },
        {
          "output_type": "execute_result",
          "data": {
            "text/plain": [
              "                       query  \\\n",
              "0  Kind in je Uppie - Deel 6   \n",
              "1  Kind in je Uppie - Deel 6   \n",
              "\n",
              "                                                 url  counts  \n",
              "0  http://forum.viva.nl/forum/zwanger/kind-in-je-...      31  \n",
              "1    http://forum.viva.nl/forum/list_messages/247697       6  "
            ],
            "text/html": [
              "\n",
              "  <div id=\"df-f00ecfb9-2e70-46ea-a94a-04b6c05d237a\">\n",
              "    <div class=\"colab-df-container\">\n",
              "      <div>\n",
              "<style scoped>\n",
              "    .dataframe tbody tr th:only-of-type {\n",
              "        vertical-align: middle;\n",
              "    }\n",
              "\n",
              "    .dataframe tbody tr th {\n",
              "        vertical-align: top;\n",
              "    }\n",
              "\n",
              "    .dataframe thead th {\n",
              "        text-align: right;\n",
              "    }\n",
              "</style>\n",
              "<table border=\"1\" class=\"dataframe\">\n",
              "  <thead>\n",
              "    <tr style=\"text-align: right;\">\n",
              "      <th></th>\n",
              "      <th>query</th>\n",
              "      <th>url</th>\n",
              "      <th>counts</th>\n",
              "    </tr>\n",
              "  </thead>\n",
              "  <tbody>\n",
              "    <tr>\n",
              "      <th>0</th>\n",
              "      <td>Kind in je Uppie - Deel 6</td>\n",
              "      <td>http://forum.viva.nl/forum/zwanger/kind-in-je-...</td>\n",
              "      <td>31</td>\n",
              "    </tr>\n",
              "    <tr>\n",
              "      <th>1</th>\n",
              "      <td>Kind in je Uppie - Deel 6</td>\n",
              "      <td>http://forum.viva.nl/forum/list_messages/247697</td>\n",
              "      <td>6</td>\n",
              "    </tr>\n",
              "  </tbody>\n",
              "</table>\n",
              "</div>\n",
              "      <button class=\"colab-df-convert\" onclick=\"convertToInteractive('df-f00ecfb9-2e70-46ea-a94a-04b6c05d237a')\"\n",
              "              title=\"Convert this dataframe to an interactive table.\"\n",
              "              style=\"display:none;\">\n",
              "        \n",
              "  <svg xmlns=\"http://www.w3.org/2000/svg\" height=\"24px\"viewBox=\"0 0 24 24\"\n",
              "       width=\"24px\">\n",
              "    <path d=\"M0 0h24v24H0V0z\" fill=\"none\"/>\n",
              "    <path d=\"M18.56 5.44l.94 2.06.94-2.06 2.06-.94-2.06-.94-.94-2.06-.94 2.06-2.06.94zm-11 1L8.5 8.5l.94-2.06 2.06-.94-2.06-.94L8.5 2.5l-.94 2.06-2.06.94zm10 10l.94 2.06.94-2.06 2.06-.94-2.06-.94-.94-2.06-.94 2.06-2.06.94z\"/><path d=\"M17.41 7.96l-1.37-1.37c-.4-.4-.92-.59-1.43-.59-.52 0-1.04.2-1.43.59L10.3 9.45l-7.72 7.72c-.78.78-.78 2.05 0 2.83L4 21.41c.39.39.9.59 1.41.59.51 0 1.02-.2 1.41-.59l7.78-7.78 2.81-2.81c.8-.78.8-2.07 0-2.86zM5.41 20L4 18.59l7.72-7.72 1.47 1.35L5.41 20z\"/>\n",
              "  </svg>\n",
              "      </button>\n",
              "      \n",
              "  <style>\n",
              "    .colab-df-container {\n",
              "      display:flex;\n",
              "      flex-wrap:wrap;\n",
              "      gap: 12px;\n",
              "    }\n",
              "\n",
              "    .colab-df-convert {\n",
              "      background-color: #E8F0FE;\n",
              "      border: none;\n",
              "      border-radius: 50%;\n",
              "      cursor: pointer;\n",
              "      display: none;\n",
              "      fill: #1967D2;\n",
              "      height: 32px;\n",
              "      padding: 0 0 0 0;\n",
              "      width: 32px;\n",
              "    }\n",
              "\n",
              "    .colab-df-convert:hover {\n",
              "      background-color: #E2EBFA;\n",
              "      box-shadow: 0px 1px 2px rgba(60, 64, 67, 0.3), 0px 1px 3px 1px rgba(60, 64, 67, 0.15);\n",
              "      fill: #174EA6;\n",
              "    }\n",
              "\n",
              "    [theme=dark] .colab-df-convert {\n",
              "      background-color: #3B4455;\n",
              "      fill: #D2E3FC;\n",
              "    }\n",
              "\n",
              "    [theme=dark] .colab-df-convert:hover {\n",
              "      background-color: #434B5C;\n",
              "      box-shadow: 0px 1px 3px 1px rgba(0, 0, 0, 0.15);\n",
              "      filter: drop-shadow(0px 1px 2px rgba(0, 0, 0, 0.3));\n",
              "      fill: #FFFFFF;\n",
              "    }\n",
              "  </style>\n",
              "\n",
              "      <script>\n",
              "        const buttonEl =\n",
              "          document.querySelector('#df-f00ecfb9-2e70-46ea-a94a-04b6c05d237a button.colab-df-convert');\n",
              "        buttonEl.style.display =\n",
              "          google.colab.kernel.accessAllowed ? 'block' : 'none';\n",
              "\n",
              "        async function convertToInteractive(key) {\n",
              "          const element = document.querySelector('#df-f00ecfb9-2e70-46ea-a94a-04b6c05d237a');\n",
              "          const dataTable =\n",
              "            await google.colab.kernel.invokeFunction('convertToInteractive',\n",
              "                                                     [key], {});\n",
              "          if (!dataTable) return;\n",
              "\n",
              "          const docLinkHtml = 'Like what you see? Visit the ' +\n",
              "            '<a target=\"_blank\" href=https://colab.research.google.com/notebooks/data_table.ipynb>data table notebook</a>'\n",
              "            + ' to learn more about interactive tables.';\n",
              "          element.innerHTML = '';\n",
              "          dataTable['output_type'] = 'display_data';\n",
              "          await google.colab.output.renderOutput(dataTable, element);\n",
              "          const docLink = document.createElement('div');\n",
              "          docLink.innerHTML = docLinkHtml;\n",
              "          element.appendChild(docLink);\n",
              "        }\n",
              "      </script>\n",
              "    </div>\n",
              "  </div>\n",
              "  "
            ]
          },
          "metadata": {},
          "execution_count": 88
        }
      ]
    },
    {
      "cell_type": "code",
      "source": [
        "# store in the dictionary\n",
        "dic = {}\n",
        "dic[top_query.index[0]] = lst"
      ],
      "metadata": {
        "id": "M1wBUW9hMsHt"
      },
      "execution_count": null,
      "outputs": []
    },
    {
      "cell_type": "code",
      "source": [
        "dic"
      ],
      "metadata": {
        "colab": {
          "base_uri": "https://localhost:8080/"
        },
        "id": "Vl05c-RNOlzy",
        "outputId": "4fbab6d2-90e4-4a49-f107-aa0342814d1b"
      },
      "execution_count": null,
      "outputs": [
        {
          "output_type": "execute_result",
          "data": {
            "text/plain": [
              "{'Kind in je Uppie - Deel 6': [['http://forum.viva.nl/forum/zwanger/kind-in-je-uppie-deel-6/list_messages/247697',\n",
              "   31],\n",
              "  ['http://forum.viva.nl/forum/list_messages/247697', 6]]}"
            ]
          },
          "metadata": {},
          "execution_count": 83
        }
      ]
    },
    {
      "cell_type": "code",
      "source": [
        "a = np.array([[1,2],[3,4]])\n",
        "b= *a\n",
        "b"
      ],
      "metadata": {
        "colab": {
          "base_uri": "https://localhost:8080/",
          "height": 138
        },
        "id": "2c9Cmwr8OmJg",
        "outputId": "8f3721a9-0678-4aaa-d644-5da48fc107af"
      },
      "execution_count": null,
      "outputs": [
        {
          "output_type": "error",
          "ename": "SyntaxError",
          "evalue": "ignored",
          "traceback": [
            "\u001b[0;36m  File \u001b[0;32m\"<ipython-input-94-0bb1ab493600>\"\u001b[0;36m, line \u001b[0;32m2\u001b[0m\n\u001b[0;31m    b= *a\u001b[0m\n\u001b[0m      ^\u001b[0m\n\u001b[0;31mSyntaxError\u001b[0m\u001b[0;31m:\u001b[0m can't use starred expression here\n"
          ]
        }
      ]
    },
    {
      "cell_type": "code",
      "source": [
        ""
      ],
      "metadata": {
        "id": "Kc0KScK1V4zC"
      },
      "execution_count": null,
      "outputs": []
    }
  ]
}